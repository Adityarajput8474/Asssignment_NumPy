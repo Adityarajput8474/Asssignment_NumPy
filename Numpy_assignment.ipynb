{
 "cells": [
  {
   "cell_type": "code",
   "execution_count": 1,
   "id": "bc797291-416a-46a1-a843-c1cc38528f70",
   "metadata": {},
   "outputs": [
    {
     "name": "stdout",
     "output_type": "stream",
     "text": [
      "[0 1 2 3 4 5]\n",
      "int64\n"
     ]
    }
   ],
   "source": [
    "#Q.1   Create a NumPy array 'arr' of integers from 0 to 5 and print its data type.\n",
    "\n",
    "import numpy as np\n",
    "\n",
    "arr = np.arange(6)\n",
    "\n",
    "# Print the array and its data type\n",
    "print(arr)\n",
    "print(arr.dtype)\n"
   ]
  },
  {
   "cell_type": "code",
   "execution_count": 3,
   "id": "91fb6b23-5605-4bc0-929b-582dd669ad0e",
   "metadata": {},
   "outputs": [
    {
     "name": "stdout",
     "output_type": "stream",
     "text": [
      "The data type is float64.\n"
     ]
    }
   ],
   "source": [
    "#Q.2   . Given a NumPy array 'arr', check if its data type is float64.\n",
    "\n",
    "\n",
    "# Given array\n",
    "arr = np.array([1.5, 2.6, 3.7])\n",
    "\n",
    "# Check if the data type is float64\n",
    "if arr.dtype == np.float64:\n",
    "    print(\"The data type is float64.\")\n",
    "else:\n",
    "    print(\"The data type is not float64.\")\n"
   ]
  },
  {
   "cell_type": "code",
   "execution_count": 4,
   "id": "69731538-2868-4396-9b2e-9e41c2623a67",
   "metadata": {},
   "outputs": [
    {
     "name": "stdout",
     "output_type": "stream",
     "text": [
      "[1.+2.j 3.+4.j 5.+6.j]\n",
      "complex128\n"
     ]
    }
   ],
   "source": [
    "#Q.3  Create a NumPy array 'arr' with a data type of complex128 containing three complex numbers\n",
    "\n",
    "\n",
    "arr = np.array([1+2j, 3+4j, 5+6j], dtype=np.complex128)\n",
    "\n",
    "# Print the array and its data type\n",
    "print(arr)\n",
    "print(arr.dtype)\n"
   ]
  },
  {
   "cell_type": "code",
   "execution_count": 5,
   "id": "8b5b920c-dca2-4d1c-b01a-fe763a44e062",
   "metadata": {},
   "outputs": [
    {
     "name": "stdout",
     "output_type": "stream",
     "text": [
      "[1. 2. 3. 4. 5.]\n",
      "float32\n"
     ]
    }
   ],
   "source": [
    "#Q.4  . Convert an existing NumPy array 'arr' of integers to float32 data type.\n",
    "\n",
    "\n",
    "\n",
    "arr = np.array([1, 2, 3, 4, 5])\n",
    "\n",
    "# Convert the array to float32 data type\n",
    "arr_float32 = arr.astype(np.float32)\n",
    "\n",
    "# Print the converted array and its data type\n",
    "print(arr_float32)\n",
    "print(arr_float32.dtype)\n"
   ]
  },
  {
   "cell_type": "code",
   "execution_count": 6,
   "id": "5f5fd754-902a-41cd-a78d-cff950c816d4",
   "metadata": {},
   "outputs": [
    {
     "name": "stdout",
     "output_type": "stream",
     "text": [
      "[1.1234568 2.9876542 3.456789 ]\n",
      "float32\n"
     ]
    }
   ],
   "source": [
    "#Q.5   Given a NumPy array 'arr' with float64 data type, convert it to float32 to reduce decimal precision.\n",
    "\n",
    "\n",
    "arr = np.array([1.123456789, 2.987654321, 3.456789123], dtype=np.float64)\n",
    "\n",
    "# Convert the array to float32 to reduce precision\n",
    "arr_float32 = arr.astype(np.float32)\n",
    "\n",
    "# Print the converted array and its data type\n",
    "print(arr_float32)\n",
    "print(arr_float32.dtype)\n"
   ]
  },
  {
   "cell_type": "code",
   "execution_count": 7,
   "id": "6c82ecbe-29da-4cfc-b1a7-b609dac7f927",
   "metadata": {},
   "outputs": [
    {
     "name": "stdout",
     "output_type": "stream",
     "text": [
      "Shape: (2, 3)\n",
      "Size: 6\n",
      "Data type: int64\n"
     ]
    }
   ],
   "source": [
    "#Q.6  Write a function array_attributes that takes a NumPy array as input and returns its shape, size, and data type.\n",
    "\n",
    "\n",
    "def array_attributes(arr):\n",
    "    # Return a tuple containing the shape, size, and data type of the array\n",
    "    return arr.shape, arr.size, arr.dtype\n",
    "\n",
    "# Example usage\n",
    "arr = np.array([[1, 2, 3], [4, 5, 6]])\n",
    "shape, size, dtype = array_attributes(arr)\n",
    "\n",
    "print(f\"Shape: {shape}\")\n",
    "print(f\"Size: {size}\")\n",
    "print(f\"Data type: {dtype}\")\n"
   ]
  },
  {
   "cell_type": "code",
   "execution_count": 8,
   "id": "06e18828-06c7-4b21-83aa-a3bf7bc0a232",
   "metadata": {},
   "outputs": [
    {
     "name": "stdout",
     "output_type": "stream",
     "text": [
      "The dimensionality of the array is: 2\n"
     ]
    }
   ],
   "source": [
    "#Q.7   Create a function array_dimension that takes a NumPy array as input and returns its dimensionality.\n",
    "\n",
    "\n",
    "def array_dimension(arr):\n",
    "    # Return the dimensionality of the array\n",
    "    return arr.ndim\n",
    "\n",
    "# Example usage\n",
    "arr = np.array([[1, 2, 3], [4, 5, 6]])\n",
    "dimension = array_dimension(arr)\n",
    "\n",
    "print(f\"The dimensionality of the array is: {dimension}\")\n"
   ]
  },
  {
   "cell_type": "code",
   "execution_count": 9,
   "id": "ea4ee046-3ba2-453a-a5a6-231c21a4ab70",
   "metadata": {},
   "outputs": [
    {
     "name": "stdout",
     "output_type": "stream",
     "text": [
      "Item size: 4 bytes\n",
      "Total size: 24 bytes\n"
     ]
    }
   ],
   "source": [
    "#Q.8   Design a function item_size_info that takes a NumPy array as input and returns the item size and the total size in bytes.\n",
    "\n",
    "\n",
    "def item_size_info(arr):\n",
    "    # Get the size of each element in bytes (item size)\n",
    "    item_size = arr.itemsize\n",
    "    \n",
    "    # Get the total size of the array in bytes\n",
    "    total_size = arr.nbytes\n",
    "    \n",
    "    return item_size, total_size\n",
    "\n",
    "# Example usage\n",
    "arr = np.array([[1, 2, 3], [4, 5, 6]], dtype=np.int32)\n",
    "item_size, total_size = item_size_info(arr)\n",
    "\n",
    "print(f\"Item size: {item_size} bytes\")\n",
    "print(f\"Total size: {total_size} bytes\")\n"
   ]
  },
  {
   "cell_type": "code",
   "execution_count": 10,
   "id": "3fb547ab-f3d6-4897-85fd-07574766bac8",
   "metadata": {},
   "outputs": [
    {
     "name": "stdout",
     "output_type": "stream",
     "text": [
      "Strides: (12, 4)\n"
     ]
    }
   ],
   "source": [
    "#Q.9  Create a function array_strides that takes a NumPy array as input and returns the strides of the array.\n",
    "\n",
    "\n",
    "def array_strides(arr):\n",
    "    # Return the strides of the array\n",
    "    return arr.strides\n",
    "\n",
    "# Example usage\n",
    "arr = np.array([[1, 2, 3], [4, 5, 6]], dtype=np.int32)\n",
    "strides = array_strides(arr)\n",
    "\n",
    "print(f\"Strides: {strides}\")\n"
   ]
  },
  {
   "cell_type": "code",
   "execution_count": 11,
   "id": "d8039ffd-a99a-4975-b847-b462c829cd8b",
   "metadata": {},
   "outputs": [
    {
     "name": "stdout",
     "output_type": "stream",
     "text": [
      "Shape: (2, 3)\n",
      "Strides: (12, 4)\n"
     ]
    }
   ],
   "source": [
    "#Q.10    Design a function shape_stride_relationship that takes a NumPy array as input and returns the shape and strides of the array.\n",
    "\n",
    "\n",
    "\n",
    "def shape_stride_relationship(arr):\n",
    "    # Return the shape and strides of the array\n",
    "    return arr.shape, arr.strides\n",
    "\n",
    "# Example usage\n",
    "arr = np.array([[1, 2, 3], [4, 5, 6]], dtype=np.int32)\n",
    "shape, strides = shape_stride_relationship(arr)\n",
    "\n",
    "print(f\"Shape: {shape}\")\n",
    "print(f\"Strides: {strides}\")\n"
   ]
  },
  {
   "cell_type": "code",
   "execution_count": 12,
   "id": "2a509d03-f48c-4484-a0d6-65640b1ceb8c",
   "metadata": {},
   "outputs": [
    {
     "name": "stdout",
     "output_type": "stream",
     "text": [
      "Array of zeros with 5 elements: [0. 0. 0. 0. 0.]\n"
     ]
    }
   ],
   "source": [
    "#Q.11  Create a function `create_zeros_array` that takes an integer `n` as input and returns a NumPy array of zeros with `n` elements.\n",
    "\n",
    "\n",
    "\n",
    "def create_zeros_array(n):\n",
    "    # Create and return an array of zeros with n elements\n",
    "    return np.zeros(n)\n",
    "\n",
    "# Example usage\n",
    "n = 5\n",
    "zeros_array = create_zeros_array(n)\n",
    "\n",
    "print(f\"Array of zeros with {n} elements: {zeros_array}\")\n"
   ]
  },
  {
   "cell_type": "code",
   "execution_count": 13,
   "id": "f585fc7f-cd93-4ef2-95f8-b4602edd92ff",
   "metadata": {},
   "outputs": [
    {
     "name": "stdout",
     "output_type": "stream",
     "text": [
      "Ones matrix of size 3x4:\n",
      "[[1. 1. 1. 1.]\n",
      " [1. 1. 1. 1.]\n",
      " [1. 1. 1. 1.]]\n"
     ]
    }
   ],
   "source": [
    "#Q.12  Write a function `create_ones_matrix` that takes integers `rows` and `cols` as inputs and generates a 2D NumPy array filled with ones of size `rows x cols`.\n",
    "\n",
    "\n",
    "def create_ones_matrix(rows, cols):\n",
    "    # Create and return a 2D NumPy array of ones with the given rows and columns\n",
    "    return np.ones((rows, cols))\n",
    "\n",
    "# Example usage\n",
    "rows = 3\n",
    "cols = 4\n",
    "ones_matrix = create_ones_matrix(rows, cols)\n",
    "\n",
    "print(f\"Ones matrix of size {rows}x{cols}:\\n{ones_matrix}\")\n"
   ]
  },
  {
   "cell_type": "code",
   "execution_count": 14,
   "id": "4ffcf04f-4005-4f8d-b35a-fcf9437a0dca",
   "metadata": {},
   "outputs": [
    {
     "name": "stdout",
     "output_type": "stream",
     "text": [
      "Range array from 0 to 10 with step 2:\n",
      "[0 2 4 6 8]\n"
     ]
    }
   ],
   "source": [
    "#Q.13   Write a function `generate_range_array` that takes three integers start, stop, and step as arguments and creates a NumPy array with a range\n",
    "#     starting from `start`, ending at stop (exclusive), and with the specified `step`.\n",
    "\n",
    "\n",
    "\n",
    "def generate_range_array(start, stop, step):\n",
    "    # Create and return a NumPy array with the specified range\n",
    "    return np.arange(start, stop, step)\n",
    "\n",
    "# Example usage\n",
    "start = 0\n",
    "stop = 10\n",
    "step = 2\n",
    "range_array = generate_range_array(start, stop, step)\n",
    "\n",
    "print(f\"Range array from {start} to {stop} with step {step}:\\n{range_array}\")\n"
   ]
  },
  {
   "cell_type": "code",
   "execution_count": 15,
   "id": "520ee42f-a1e9-4aab-b1c1-5fb167b7b24b",
   "metadata": {},
   "outputs": [
    {
     "name": "stdout",
     "output_type": "stream",
     "text": [
      "Linear space array from 0.0 to 1.0 with 5 values:\n",
      "[0.   0.25 0.5  0.75 1.  ]\n"
     ]
    }
   ],
   "source": [
    "#Q.14   Design a function `generate_linear_space` that takes two floats `start`, `stop`, and an integer `num` as arguments and generates a NumPy\n",
    "#       array with num equally spaced values between `start` and `stop` (inclusive).\n",
    "\n",
    "\n",
    "def generate_linear_space(start, stop, num):\n",
    "    # Create and return a NumPy array with num equally spaced values between start and stop\n",
    "    return np.linspace(start, stop, num)\n",
    "\n",
    "# Example usage\n",
    "start = 0.0\n",
    "stop = 1.0\n",
    "num = 5\n",
    "linear_space_array = generate_linear_space(start, stop, num)\n",
    "\n",
    "print(f\"Linear space array from {start} to {stop} with {num} values:\\n{linear_space_array}\")\n"
   ]
  },
  {
   "cell_type": "code",
   "execution_count": 16,
   "id": "97f82317-a2bc-4205-a8ec-801e8fb2fbf0",
   "metadata": {},
   "outputs": [
    {
     "name": "stdout",
     "output_type": "stream",
     "text": [
      "Identity matrix of size 4x4:\n",
      "[[1. 0. 0. 0.]\n",
      " [0. 1. 0. 0.]\n",
      " [0. 0. 1. 0.]\n",
      " [0. 0. 0. 1.]]\n"
     ]
    }
   ],
   "source": [
    "#Q.15   Create a function `create_identity_matrix` that takes an integer `n` as input and generates a square identity matrix of size `n x n` using `numpy.eye`.\n",
    "\n",
    "\n",
    "def create_identity_matrix(n):\n",
    "    # Create and return an identity matrix of size n x n\n",
    "    return np.eye(n)\n",
    "\n",
    "# Example usage\n",
    "n = 4\n",
    "identity_matrix = create_identity_matrix(n)\n",
    "\n",
    "print(f\"Identity matrix of size {n}x{n}:\\n{identity_matrix}\")\n"
   ]
  },
  {
   "cell_type": "code",
   "execution_count": 17,
   "id": "98c571a8-0fa9-443e-bc3d-9b07ee15a9c5",
   "metadata": {},
   "outputs": [
    {
     "name": "stdout",
     "output_type": "stream",
     "text": [
      "NumPy array: [1 2 3 4 5]\n"
     ]
    }
   ],
   "source": [
    "#Q.16   Write a function that takes a Python list and converts it into a NumPy array.\n",
    "\n",
    "\n",
    "def list_to_numpy_array(py_list):\n",
    "    # Convert the Python list to a NumPy array\n",
    "    return np.array(py_list)\n",
    "\n",
    "# Example usage\n",
    "py_list = [1, 2, 3, 4, 5]\n",
    "numpy_array = list_to_numpy_array(py_list)\n",
    "\n",
    "print(f\"NumPy array: {numpy_array}\")\n"
   ]
  },
  {
   "cell_type": "code",
   "execution_count": 18,
   "id": "01db59b5-e4a3-4a13-8708-c549e530a902",
   "metadata": {},
   "outputs": [
    {
     "name": "stdout",
     "output_type": "stream",
     "text": [
      "Original array: [1 2 3 4 5]\n",
      "View array: [1 2 3 4 5]\n",
      "Modified view array: [10  2  3  4  5]\n",
      "Original array after modifying the view: [10  2  3  4  5]\n"
     ]
    }
   ],
   "source": [
    "#Q.17    Create a NumPy array and demonstrate the use of `numpy.view` to create a new array object with the same data.\n",
    "\n",
    "\n",
    "arr = np.array([1, 2, 3, 4, 5])\n",
    "\n",
    "# Use numpy.view() to create a new array object with the same data\n",
    "view_arr = arr.view()\n",
    "\n",
    "# Display the original array and the new view array\n",
    "print(f\"Original array: {arr}\")\n",
    "print(f\"View array: {view_arr}\")\n",
    "\n",
    "# Modify the view array\n",
    "view_arr[0] = 10\n",
    "\n",
    "# Display the modified view and the original array to show that they share the same data\n",
    "print(f\"Modified view array: {view_arr}\")\n",
    "print(f\"Original array after modifying the view: {arr}\")\n"
   ]
  },
  {
   "cell_type": "code",
   "execution_count": 19,
   "id": "24dec295-d47b-48c9-8fd2-6e8d73616c0b",
   "metadata": {},
   "outputs": [
    {
     "name": "stdout",
     "output_type": "stream",
     "text": [
      "Concatenated along axis 0 (rows):\n",
      " [[1 2]\n",
      " [3 4]\n",
      " [5 6]\n",
      " [7 8]]\n",
      "Concatenated along axis 1 (columns):\n",
      " [[1 2 5 6]\n",
      " [3 4 7 8]]\n"
     ]
    }
   ],
   "source": [
    "#Q.18  Write a function that takes two NumPy arrays and concatenates them along a specified axis.\n",
    "\n",
    "\n",
    "def concatenate_arrays(arr1, arr2, axis):\n",
    "    # Concatenate the two arrays along the specified axis\n",
    "    return np.concatenate((arr1, arr2), axis=axis)\n",
    "\n",
    "# Example usage\n",
    "arr1 = np.array([[1, 2], [3, 4]])\n",
    "arr2 = np.array([[5, 6], [7, 8]])\n",
    "\n",
    "# Concatenate along axis 0 (rows)\n",
    "result_axis_0 = concatenate_arrays(arr1, arr2, axis=0)\n",
    "print(\"Concatenated along axis 0 (rows):\\n\", result_axis_0)\n",
    "\n",
    "# Concatenate along axis 1 (columns)\n",
    "result_axis_1 = concatenate_arrays(arr1, arr2, axis=1)\n",
    "print(\"Concatenated along axis 1 (columns):\\n\", result_axis_1)\n"
   ]
  },
  {
   "cell_type": "code",
   "execution_count": 20,
   "id": "5e506e1d-0c0b-4c2e-84a0-c54d64f783de",
   "metadata": {},
   "outputs": [
    {
     "name": "stdout",
     "output_type": "stream",
     "text": [
      "Concatenated array along axis 1 (horizontally):\n",
      " [[1 2 5 6]\n",
      " [3 4 7 8]]\n"
     ]
    }
   ],
   "source": [
    "#Q.19   Create two NumPy arrays with different shapes and concatenate them horizontally using `numpy. concatenate`.\n",
    "\n",
    "\n",
    "# Create two arrays with different shapes\n",
    "arr1 = np.array([[1, 2], [3, 4]])  # Shape (2, 2)\n",
    "arr2 = np.array([[5, 6], [7, 8]])  # Shape (2, 2)\n",
    "\n",
    "# Concatenate them horizontally (along axis 1)\n",
    "result = np.concatenate((arr1, arr2), axis=1)\n",
    "\n",
    "print(\"Concatenated array along axis 1 (horizontally):\\n\", result)\n"
   ]
  },
  {
   "cell_type": "code",
   "execution_count": 21,
   "id": "5ffe05bb-52ce-4ae0-bce3-1a334326bebe",
   "metadata": {},
   "outputs": [
    {
     "name": "stdout",
     "output_type": "stream",
     "text": [
      "Vertically stacked arrays:\n",
      " [[ 1  2]\n",
      " [ 3  4]\n",
      " [ 5  6]\n",
      " [ 7  8]\n",
      " [ 9 10]\n",
      " [11 12]]\n"
     ]
    }
   ],
   "source": [
    "#Q.20  . Write a function that vertically stacks multiple NumPy arrays given as a list.\n",
    "\n",
    "\n",
    "def vertical_stack_arrays(arrays):\n",
    "    # Stack the list of arrays vertically (along axis 0)\n",
    "    return np.vstack(arrays)\n",
    "\n",
    "# Example usage\n",
    "arr1 = np.array([[1, 2], [3, 4]])\n",
    "arr2 = np.array([[5, 6], [7, 8]])\n",
    "arr3 = np.array([[9, 10], [11, 12]])\n",
    "\n",
    "# Stack the arrays vertically\n",
    "stacked_array = vertical_stack_arrays([arr1, arr2, arr3])\n",
    "\n",
    "print(\"Vertically stacked arrays:\\n\", stacked_array)\n"
   ]
  },
  {
   "cell_type": "code",
   "execution_count": 22,
   "id": "6ff58663-f2e8-4a66-9964-9de15846940b",
   "metadata": {},
   "outputs": [
    {
     "name": "stdout",
     "output_type": "stream",
     "text": [
      "Array with values from 1 to 10 with step 2:\n",
      "[1 3 5 7 9]\n"
     ]
    }
   ],
   "source": [
    "#Q.21   Write a Python function using NumPy to create an array of integers within a specified range (inclusive) with a given step size.\n",
    "\n",
    "def create_range_array(start, stop, step):\n",
    "    # Create an array of integers from start to stop (inclusive) with the specified step size\n",
    "    # Adjust stop to be inclusive by adding step if needed\n",
    "    if (stop - start) % step == 0:\n",
    "        return np.arange(start, stop + step, step)  # Include the stop value\n",
    "    else:\n",
    "        return np.arange(start, stop, step)\n",
    "\n",
    "# Example usage\n",
    "start = 1\n",
    "stop = 10\n",
    "step = 2\n",
    "range_array = create_range_array(start, stop, step)\n",
    "\n",
    "print(f\"Array with values from {start} to {stop} with step {step}:\\n{range_array}\")\n"
   ]
  },
  {
   "cell_type": "code",
   "execution_count": 23,
   "id": "34e090cf-f433-4036-82ff-a0c236ae5a39",
   "metadata": {},
   "outputs": [
    {
     "name": "stdout",
     "output_type": "stream",
     "text": [
      "Array of 10 equally spaced values between 0 and 1:\n",
      "[0.         0.11111111 0.22222222 0.33333333 0.44444444 0.55555556\n",
      " 0.66666667 0.77777778 0.88888889 1.        ]\n"
     ]
    }
   ],
   "source": [
    "#Q.22   Write a Python function using NumPy to generate an array of 10 equally spaced values between 0 and 1 (inclusive).\n",
    "\n",
    "\n",
    "def generate_equally_spaced_array(start, stop, num_values):\n",
    "    # Generate an array of equally spaced values between start and stop (inclusive)\n",
    "    return np.linspace(start, stop, num_values)\n",
    "\n",
    "# Example usage\n",
    "start = 0\n",
    "stop = 1\n",
    "num_values = 10\n",
    "\n",
    "array = generate_equally_spaced_array(start, stop, num_values)\n",
    "\n",
    "print(f\"Array of {num_values} equally spaced values between {start} and {stop}:\\n{array}\")\n"
   ]
  },
  {
   "cell_type": "code",
   "execution_count": 24,
   "id": "cdfd90aa-8312-4f3c-a45e-799d02604588",
   "metadata": {},
   "outputs": [
    {
     "name": "stdout",
     "output_type": "stream",
     "text": [
      "Array of 5 logarithmically spaced values between 1 and 1000:\n",
      "[   1.            5.62341325   31.6227766   177.827941   1000.        ]\n"
     ]
    }
   ],
   "source": [
    "#Q.23   Write a Python function using NumPy to create an array of 5 logarithmically spaced values between 1 and 1000 (inclusive).\n",
    "\n",
    "\n",
    "def generate_log_spaced_array(start, stop, num_values):\n",
    "    # Generate a logarithmically spaced array between start and stop (inclusive)\n",
    "    return np.logspace(np.log10(start), np.log10(stop), num_values)\n",
    "\n",
    "# Example usage\n",
    "start = 1\n",
    "stop = 1000\n",
    "num_values = 5\n",
    "\n",
    "log_spaced_array = generate_log_spaced_array(start, stop, num_values)\n",
    "\n",
    "print(f\"Array of {num_values} logarithmically spaced values between {start} and {stop}:\\n{log_spaced_array}\")\n"
   ]
  },
  {
   "cell_type": "code",
   "execution_count": 25,
   "id": "72425555-ed2d-450f-95d7-a13916d35bac",
   "metadata": {},
   "outputs": [
    {
     "name": "stdout",
     "output_type": "stream",
     "text": [
      "Pandas DataFrame with random integers:\n",
      "    Column1  Column2  Column3\n",
      "0       73       93       96\n",
      "1        6       68        3\n",
      "2        7       30       63\n",
      "3       70       31       84\n",
      "4       62       78       35\n"
     ]
    }
   ],
   "source": [
    "#Q.24   Create a Pandas DataFrame using a NumPy array that contains 5 rows and 3 columns, where the values are random integers between 1 and 100.\n",
    "\n",
    "import numpy as np\n",
    "import pandas as pd\n",
    "\n",
    "def create_random_dataframe(rows, cols):\n",
    "    # Create a NumPy array with random integers between 1 and 100\n",
    "    data = np.random.randint(1, 101, size=(rows, cols))\n",
    "    \n",
    "    # Create a DataFrame from the NumPy array\n",
    "    df = pd.DataFrame(data, columns=[f'Column{i+1}' for i in range(cols)])\n",
    "    \n",
    "    return df\n",
    "\n",
    "# Example usage\n",
    "rows = 5\n",
    "cols = 3\n",
    "\n",
    "random_dataframe = create_random_dataframe(rows, cols)\n",
    "\n",
    "print(\"Pandas DataFrame with random integers:\\n\", random_dataframe)\n"
   ]
  },
  {
   "cell_type": "code",
   "execution_count": 26,
   "id": "3f089562-d722-42fe-9cde-a199df383aa8",
   "metadata": {},
   "outputs": [
    {
     "name": "stdout",
     "output_type": "stream",
     "text": [
      "Original DataFrame:\n",
      "   A   B\n",
      "0  1 -10\n",
      "1 -2  20\n",
      "2  3 -30\n",
      "3 -4  40\n",
      "4  5 -50\n",
      "\n",
      "DataFrame after replacing negative values in column 'A' with zeros:\n",
      "   A   B\n",
      "0  1 -10\n",
      "1  0  20\n",
      "2  3 -30\n",
      "3  0  40\n",
      "4  5 -50\n"
     ]
    }
   ],
   "source": [
    "#Q.25  . Write a function that takes a Pandas DataFrame and replaces all negative values in a specific column with zeros. Use NumPy operations within the Pandas DataFrame.\n",
    "\n",
    "\n",
    "def replace_negative_with_zero(df, column_name):\n",
    "    # Replace negative values in the specified column with zeros using NumPy's where function\n",
    "    df[column_name] = np.where(df[column_name] < 0, 0, df[column_name])\n",
    "    \n",
    "    return df\n",
    "\n",
    "# Example usage\n",
    "# Create a sample DataFrame\n",
    "data = {'A': [1, -2, 3, -4, 5],\n",
    "        'B': [-10, 20, -30, 40, -50]}\n",
    "\n",
    "df = pd.DataFrame(data)\n",
    "\n",
    "print(\"Original DataFrame:\")\n",
    "print(df)\n",
    "\n",
    "# Replace negative values in column 'A' with zeros\n",
    "df_modified = replace_negative_with_zero(df, 'A')\n",
    "\n",
    "print(\"\\nDataFrame after replacing negative values in column 'A' with zeros:\")\n",
    "print(df_modified)\n"
   ]
  },
  {
   "cell_type": "code",
   "execution_count": 27,
   "id": "fbfaabdb-dbc9-405d-8361-4f9db15eeda9",
   "metadata": {},
   "outputs": [
    {
     "name": "stdout",
     "output_type": "stream",
     "text": [
      "The 3rd element is: 30\n"
     ]
    }
   ],
   "source": [
    "#Q.26   Access the 3rd element from the given NumPy array.\n",
    "\n",
    "# Given NumPy array\n",
    "arr = np.array([10, 20, 30, 40, 50])\n",
    "\n",
    "# Access the 3rd element (index 2)\n",
    "third_element = arr[2]\n",
    "\n",
    "print(\"The 3rd element is:\", third_element)\n"
   ]
  },
  {
   "cell_type": "code",
   "execution_count": 28,
   "id": "b4f7ca84-6200-4c98-a3db-a300c3f17cbd",
   "metadata": {},
   "outputs": [
    {
     "name": "stdout",
     "output_type": "stream",
     "text": [
      "The element at index (1, 2) is: 6\n"
     ]
    }
   ],
   "source": [
    "#Q.27   Retrieve the element at index (1, 2) from the 2D NumPy array.\n",
    "\n",
    "# Given 2D NumPy array\n",
    "arr_2d = np.array([[1, 2, 3],\n",
    "                   [4, 5, 6],\n",
    "                   [7, 8, 9]])\n",
    "\n",
    "# Retrieve the element at index (1, 2)\n",
    "element = arr_2d[1, 2]\n",
    "\n",
    "print(\"The element at index (1, 2) is:\", element)\n"
   ]
  },
  {
   "cell_type": "code",
   "execution_count": 29,
   "id": "202f75cc-bc4d-4dc4-abe5-36f680b10647",
   "metadata": {},
   "outputs": [
    {
     "name": "stdout",
     "output_type": "stream",
     "text": [
      "Elements greater than 5: [ 8 10  7]\n"
     ]
    }
   ],
   "source": [
    "#Q.28  Using boolean indexing, extract elements greater than 5 from the given NumPy array.\n",
    "\n",
    "\n",
    "# Given NumPy array\n",
    "arr = np.array([3, 8, 2, 10, 5, 7])\n",
    "\n",
    "# Use boolean indexing to extract elements greater than 5\n",
    "greater_than_5 = arr[arr > 5]\n",
    "\n",
    "print(\"Elements greater than 5:\", greater_than_5)\n"
   ]
  },
  {
   "cell_type": "code",
   "execution_count": 30,
   "id": "6d936764-5e57-4b38-b3d9-14ae970f857d",
   "metadata": {},
   "outputs": [
    {
     "name": "stdout",
     "output_type": "stream",
     "text": [
      "Extracted elements: [3 4 5 6]\n"
     ]
    }
   ],
   "source": [
    "#Q.29   Perform basic slicing to extract elements from index 2 to 5 (inclusive) from the given NumPy array.\n",
    "\n",
    "import numpy as np\n",
    "\n",
    "# Given NumPy array\n",
    "arr = np.array([1, 2, 3, 4, 5, 6, 7, 8, 9])\n",
    "\n",
    "# Slice to extract elements from index 2 to 5 (inclusive)\n",
    "sliced_array = arr[2:6]\n",
    "\n",
    "print(\"Extracted elements:\", sliced_array)\n"
   ]
  },
  {
   "cell_type": "code",
   "execution_count": 31,
   "id": "da0aa246-c1d4-4502-87be-4805e752e2dc",
   "metadata": {},
   "outputs": [
    {
     "name": "stdout",
     "output_type": "stream",
     "text": [
      "Extracted sub-array:\n",
      " [[2 3]\n",
      " [5 6]]\n"
     ]
    }
   ],
   "source": [
    "#Q.30    Slice the 2D NumPy array to extract the sub-array `[[2, 3], [5, 6]]` from the given array.\n",
    "\n",
    "\n",
    "# Given 2D NumPy array\n",
    "arr_2d = np.array([[1, 2, 3],\n",
    "                   [4, 5, 6],\n",
    "                   [7, 8, 9]])\n",
    "\n",
    "# Slice to extract the sub-array [[2, 3], [5, 6]]\n",
    "sub_array = arr_2d[0:2, 1:3]\n",
    "\n",
    "print(\"Extracted sub-array:\\n\", sub_array)\n"
   ]
  },
  {
   "cell_type": "code",
   "execution_count": 32,
   "id": "dac172d2-abf8-4e3e-b31f-62be56260988",
   "metadata": {},
   "outputs": [
    {
     "name": "stdout",
     "output_type": "stream",
     "text": [
      "Extracted elements: [2 6 7]\n"
     ]
    }
   ],
   "source": [
    "#Q.31  Write a NumPy function to extract elements in specific order from a given 2D array based on indices provided in another array.\n",
    "\n",
    "\n",
    "def extract_elements_by_indices(arr_2d, indices):\n",
    "    # Extract the elements based on the indices\n",
    "    # indices is expected to be a 2D array with shape (n, 2), where each row is [row_index, col_index]\n",
    "    row_indices = indices[:, 0]  # Extract row indices\n",
    "    col_indices = indices[:, 1]  # Extract column indices\n",
    "    \n",
    "    # Use fancy indexing to extract the elements\n",
    "    extracted_elements = arr_2d[row_indices, col_indices]\n",
    "    \n",
    "    return extracted_elements\n",
    "\n",
    "# Example usage\n",
    "arr_2d = np.array([[1, 2, 3],\n",
    "                   [4, 5, 6],\n",
    "                   [7, 8, 9]])\n",
    "\n",
    "# Indices array where each row is [row_index, col_index]\n",
    "indices = np.array([[0, 1],  # Extract element at (0, 1)\n",
    "                    [1, 2],  # Extract element at (1, 2)\n",
    "                    [2, 0]]) # Extract element at (2, 0)\n",
    "\n",
    "# Extract elements based on indices\n",
    "extracted = extract_elements_by_indices(arr_2d, indices)\n",
    "\n",
    "print(\"Extracted elements:\", extracted)\n"
   ]
  },
  {
   "cell_type": "code",
   "execution_count": 33,
   "id": "746e34c2-4fcc-45aa-9b37-6453d752278a",
   "metadata": {},
   "outputs": [
    {
     "name": "stdout",
     "output_type": "stream",
     "text": [
      "Filtered elements greater than 6: [ 7  9 11 13]\n"
     ]
    }
   ],
   "source": [
    "#Q.32  Create a NumPy function that filters elements greater than a threshold from a given 1D array using boolean indexing.\n",
    "\n",
    "def filter_elements_greater_than_threshold(arr, threshold):\n",
    "    # Create a boolean mask where elements greater than the threshold are True\n",
    "    mask = arr > threshold\n",
    "    \n",
    "    # Use the mask to filter elements greater than the threshold\n",
    "    filtered_elements = arr[mask]\n",
    "    \n",
    "    return filtered_elements\n",
    "\n",
    "# Example usage\n",
    "arr = np.array([1, 3, 5, 7, 9, 11, 13])\n",
    "threshold = 6\n",
    "\n",
    "# Filter elements greater than the threshold\n",
    "filtered_arr = filter_elements_greater_than_threshold(arr, threshold)\n",
    "\n",
    "print(f\"Filtered elements greater than {threshold}:\", filtered_arr)\n"
   ]
  },
  {
   "cell_type": "code",
   "execution_count": 34,
   "id": "9c996803-094e-43b3-9310-b3177997d010",
   "metadata": {},
   "outputs": [
    {
     "name": "stdout",
     "output_type": "stream",
     "text": [
      "Extracted elements: [ 7 24  2]\n"
     ]
    }
   ],
   "source": [
    "#Q.33   Develop a NumPy function that extracts specific elements from a 3D array using indices provided in three separate arrays for each dimension.\n",
    "\n",
    "\n",
    "\n",
    "def extract_elements_from_3d_array(arr_3d, depth_indices, row_indices, col_indices):\n",
    "    # Use the provided indices for each dimension to extract the elements\n",
    "    extracted_elements = arr_3d[depth_indices, row_indices, col_indices]\n",
    "    \n",
    "    return extracted_elements\n",
    "\n",
    "# Example usage\n",
    "# Create a 3D NumPy array (2x3x4)\n",
    "arr_3d = np.array([[[1, 2, 3, 4],\n",
    "                    [5, 6, 7, 8],\n",
    "                    [9, 10, 11, 12]],\n",
    "                   \n",
    "                   [[13, 14, 15, 16],\n",
    "                    [17, 18, 19, 20],\n",
    "                    [21, 22, 23, 24]]])\n",
    "\n",
    "# Indices for each dimension\n",
    "depth_indices = np.array([0, 1, 0])  # Depth index (2 elements, for two depths)\n",
    "row_indices = np.array([1, 2, 0])    # Row index\n",
    "col_indices = np.array([2, 3, 1])    # Column index\n",
    "\n",
    "# Extract the elements using the indices\n",
    "extracted_elements = extract_elements_from_3d_array(arr_3d, depth_indices, row_indices, col_indices)\n",
    "\n",
    "print(\"Extracted elements:\", extracted_elements)\n"
   ]
  },
  {
   "cell_type": "code",
   "execution_count": 35,
   "id": "0be12fc5-3ad4-4007-91a6-5b6e76ce6333",
   "metadata": {},
   "outputs": [
    {
     "name": "stdout",
     "output_type": "stream",
     "text": [
      "Filtered elements where both conditions are satisfied: [4 5 6 7]\n"
     ]
    }
   ],
   "source": [
    "#Q.34   Write a NumPy function that returns elements from an array where both two conditions are satisfied using boolean indexing.\n",
    "\n",
    "\n",
    "\n",
    "def filter_elements_by_conditions(arr, condition1, condition2):\n",
    "    # Apply both conditions using logical AND (&)\n",
    "    filtered_elements = arr[condition1 & condition2]\n",
    "    \n",
    "    return filtered_elements\n",
    "\n",
    "# Example usage\n",
    "arr = np.array([1, 2, 3, 4, 5, 6, 7, 8, 9])\n",
    "\n",
    "# Define two conditions:\n",
    "condition1 = arr > 3  # Condition 1: Elements greater than 3\n",
    "condition2 = arr < 8  # Condition 2: Elements less than 8\n",
    "\n",
    "# Filter elements where both conditions are satisfied\n",
    "filtered_arr = filter_elements_by_conditions(arr, condition1, condition2)\n",
    "\n",
    "print(\"Filtered elements where both conditions are satisfied:\", filtered_arr)\n"
   ]
  },
  {
   "cell_type": "code",
   "execution_count": 36,
   "id": "cc426265-fad6-485b-8ddc-bbbc563cb09b",
   "metadata": {},
   "outputs": [
    {
     "name": "stdout",
     "output_type": "stream",
     "text": [
      "Extracted elements: [3 5 7]\n"
     ]
    }
   ],
   "source": [
    "#Q.35   Create a NumPy function that extracts elements from a 2D array using row and column indices provided in separate arrays.\n",
    "\n",
    "\n",
    "def extract_elements_from_2d_array(arr_2d, row_indices, col_indices):\n",
    "    # Use row and column indices to extract elements using advanced indexing\n",
    "    extracted_elements = arr_2d[row_indices, col_indices]\n",
    "    \n",
    "    return extracted_elements\n",
    "\n",
    "# Example usage\n",
    "arr_2d = np.array([[1, 2, 3],\n",
    "                   [4, 5, 6],\n",
    "                   [7, 8, 9]])\n",
    "\n",
    "# Row and column indices (separate arrays)\n",
    "row_indices = np.array([0, 1, 2])  # Row indices\n",
    "col_indices = np.array([2, 1, 0])  # Column indices\n",
    "\n",
    "# Extract the elements using the row and column indices\n",
    "extracted_elements = extract_elements_from_2d_array(arr_2d, row_indices, col_indices)\n",
    "\n",
    "print(\"Extracted elements:\", extracted_elements)\n"
   ]
  },
  {
   "cell_type": "code",
   "execution_count": 37,
   "id": "88151e49-ad17-439a-8a3c-9270e5ec2885",
   "metadata": {},
   "outputs": [
    {
     "name": "stdout",
     "output_type": "stream",
     "text": [
      "Result after adding 5 to each element:\n",
      "[[ 6  7  8]\n",
      " [ 9 10 11]\n",
      " [12 13 14]]\n"
     ]
    }
   ],
   "source": [
    "#Q.36   Given an array arr of shape (3, 3), add a scalar value of 5 to each element using NumPy broadcasting.\n",
    "\n",
    "\n",
    "# Given 3x3 NumPy array\n",
    "arr = np.array([[1, 2, 3],\n",
    "                [4, 5, 6],\n",
    "                [7, 8, 9]])\n",
    "\n",
    "# Add scalar value 5 to each element of the array using broadcasting\n",
    "result = arr + 5\n",
    "\n",
    "print(\"Result after adding 5 to each element:\")\n",
    "print(result)\n"
   ]
  },
  {
   "cell_type": "code",
   "execution_count": 39,
   "id": "ad8112d5-9b66-4c49-9dfd-1a7ecda623ee",
   "metadata": {},
   "outputs": [
    {
     "ename": "ValueError",
     "evalue": "operands could not be broadcast together with shapes (3,4) (1,3) ",
     "output_type": "error",
     "traceback": [
      "\u001b[1;31m---------------------------------------------------------------------------\u001b[0m",
      "\u001b[1;31mValueError\u001b[0m                                Traceback (most recent call last)",
      "Cell \u001b[1;32mIn[39], line 11\u001b[0m\n\u001b[0;32m      6\u001b[0m arr2 \u001b[38;5;241m=\u001b[39m np\u001b[38;5;241m.\u001b[39marray([[\u001b[38;5;241m4\u001b[39m, \u001b[38;5;241m5\u001b[39m, \u001b[38;5;241m6\u001b[39m, \u001b[38;5;241m7\u001b[39m],\n\u001b[0;32m      7\u001b[0m                  [\u001b[38;5;241m8\u001b[39m, \u001b[38;5;241m9\u001b[39m, \u001b[38;5;241m10\u001b[39m, \u001b[38;5;241m11\u001b[39m],\n\u001b[0;32m      8\u001b[0m                  [\u001b[38;5;241m12\u001b[39m, \u001b[38;5;241m13\u001b[39m, \u001b[38;5;241m14\u001b[39m, \u001b[38;5;241m15\u001b[39m]])  \u001b[38;5;66;03m# Shape (3, 4)\u001b[39;00m\n\u001b[0;32m     10\u001b[0m \u001b[38;5;66;03m# Multiply each row of arr2 by the corresponding element in arr1 using broadcasting\u001b[39;00m\n\u001b[1;32m---> 11\u001b[0m result \u001b[38;5;241m=\u001b[39m \u001b[43marr2\u001b[49m\u001b[43m \u001b[49m\u001b[38;5;241;43m*\u001b[39;49m\u001b[43m \u001b[49m\u001b[43marr1\u001b[49m\n\u001b[0;32m     13\u001b[0m \u001b[38;5;28mprint\u001b[39m(\u001b[38;5;124m\"\u001b[39m\u001b[38;5;124mResult of row-wise multiplication:\u001b[39m\u001b[38;5;124m\"\u001b[39m)\n\u001b[0;32m     14\u001b[0m \u001b[38;5;28mprint\u001b[39m(result)\n",
      "\u001b[1;31mValueError\u001b[0m: operands could not be broadcast together with shapes (3,4) (1,3) "
     ]
    }
   ],
   "source": [
    "#Q.37    Consider two arrays arr1 of shape (1, 3) and arr2 of shape (3, 4). Multiply each row of arr2 by the corresponding element in arr1 using NumPy broadcasting.\n",
    "\n",
    "\n",
    "# Given arrays\n",
    "arr1 = np.array([[1, 2, 3]])  # Shape (1, 3)\n",
    "arr2 = np.array([[4, 5, 6, 7],\n",
    "                 [8, 9, 10, 11],\n",
    "                 [12, 13, 14, 15]])  # Shape (3, 4)\n",
    "\n",
    "# Multiply each row of arr2 by the corresponding element in arr1 using broadcasting\n",
    "result = arr2 * arr1\n",
    "\n",
    "print(\"Result of row-wise multiplication:\")\n",
    "print(result)\n"
   ]
  },
  {
   "cell_type": "code",
   "execution_count": 40,
   "id": "e073c572-15b6-482b-8089-327e69d22af2",
   "metadata": {},
   "outputs": [
    {
     "ename": "ValueError",
     "evalue": "operands could not be broadcast together with shapes (3,4) (4,1) ",
     "output_type": "error",
     "traceback": [
      "\u001b[1;31m---------------------------------------------------------------------------\u001b[0m",
      "\u001b[1;31mValueError\u001b[0m                                Traceback (most recent call last)",
      "Cell \u001b[1;32mIn[40], line 17\u001b[0m\n\u001b[0;32m     11\u001b[0m \u001b[38;5;66;03m# Reshape arr1 to be broadcastable to arr2's shape\u001b[39;00m\n\u001b[0;32m     12\u001b[0m \u001b[38;5;66;03m# arr1 has shape (1, 4), and arr2 has shape (4, 3)\u001b[39;00m\n\u001b[0;32m     13\u001b[0m \u001b[38;5;66;03m# We need to adjust the shapes, let's transpose arr2 or align dimensions.\u001b[39;00m\n\u001b[0;32m     14\u001b[0m \n\u001b[0;32m     15\u001b[0m \u001b[38;5;66;03m# Here, we transpose arr2 so that we can broadcast arr1 to it\u001b[39;00m\n\u001b[0;32m     16\u001b[0m arr2_transposed \u001b[38;5;241m=\u001b[39m arr2\u001b[38;5;241m.\u001b[39mT  \u001b[38;5;66;03m# Shape becomes (3, 4)\u001b[39;00m\n\u001b[1;32m---> 17\u001b[0m result \u001b[38;5;241m=\u001b[39m \u001b[43marr2_transposed\u001b[49m\u001b[43m \u001b[49m\u001b[38;5;241;43m+\u001b[39;49m\u001b[43m \u001b[49m\u001b[43marr1\u001b[49m\u001b[38;5;241;43m.\u001b[39;49m\u001b[43mT\u001b[49m  \u001b[38;5;66;03m# Shape of arr1 becomes (4, 1)\u001b[39;00m\n\u001b[0;32m     19\u001b[0m \u001b[38;5;66;03m# We transpose back to get the result in original dimensions\u001b[39;00m\n\u001b[0;32m     20\u001b[0m result_transposed \u001b[38;5;241m=\u001b[39m result\u001b[38;5;241m.\u001b[39mT\n",
      "\u001b[1;31mValueError\u001b[0m: operands could not be broadcast together with shapes (3,4) (4,1) "
     ]
    }
   ],
   "source": [
    "#Q.38  Given a 1D array arr1 of shape (1, 4) and a 2D array arr2 of shape (4, 3), add arr1 to each row of arr2 using NumPy broadcasting.\n",
    "\n",
    "\n",
    "# Given arrays\n",
    "arr1 = np.array([[1, 2, 3, 4]])  # Shape (1, 4)\n",
    "arr2 = np.array([[5, 6, 7],\n",
    "                 [8, 9, 10],\n",
    "                 [11, 12, 13],\n",
    "                 [14, 15, 16]])  # Shape (4, 3)\n",
    "\n",
    "# Reshape arr1 to be broadcastable to arr2's shape\n",
    "# arr1 has shape (1, 4), and arr2 has shape (4, 3)\n",
    "# We need to adjust the shapes, let's transpose arr2 or align dimensions.\n",
    "\n",
    "# Here, we transpose arr2 so that we can broadcast arr1 to it\n",
    "arr2_transposed = arr2.T  # Shape becomes (3, 4)\n",
    "result = arr2_transposed + arr1.T  # Shape of arr1 becomes (4, 1)\n",
    "\n",
    "# We transpose back to get the result in original dimensions\n",
    "result_transposed = result.T\n",
    "\n",
    "print(\"Result after broadcasting arr1 to each row of arr2:\")\n",
    "print(result_transposed)\n"
   ]
  },
  {
   "cell_type": "code",
   "execution_count": 41,
   "id": "c0233556-d0da-4d2b-9747-a96bfe8d1624",
   "metadata": {},
   "outputs": [
    {
     "name": "stdout",
     "output_type": "stream",
     "text": [
      "Result after broadcasting and adding arr1 and arr2:\n",
      "[[5 6 7]\n",
      " [6 7 8]\n",
      " [7 8 9]]\n"
     ]
    }
   ],
   "source": [
    "#Q.39    Consider two arrays arr1 of shape (3, 1) and arr2 of shape (1, 3). Add these arrays using NumPy broadcasting.\n",
    "\n",
    "import numpy as np\n",
    "\n",
    "# Given arrays\n",
    "arr1 = np.array([[1], [2], [3]])  # Shape (3, 1)\n",
    "arr2 = np.array([[4, 5, 6]])       # Shape (1, 3)\n",
    "\n",
    "# Add arr1 and arr2 using broadcasting\n",
    "result = arr1 + arr2\n",
    "\n",
    "print(\"Result after broadcasting and adding arr1 and arr2:\")\n",
    "print(result)\n"
   ]
  },
  {
   "cell_type": "code",
   "execution_count": 42,
   "id": "210af875-df26-4f2d-b67f-a7a386f4b8d2",
   "metadata": {},
   "outputs": [
    {
     "name": "stdout",
     "output_type": "stream",
     "text": [
      "Result after broadcasting and multiplication:\n",
      "[[[ 1  2  3]\n",
      "  [ 8 10 12]]\n",
      "\n",
      " [[ 3  6  9]\n",
      "  [16 20 24]]]\n"
     ]
    }
   ],
   "source": [
    "#Q.40   Given arrays arr1 of shape (2, 3) and arr2 of shape (2, 2), perform multiplication using NumPy broadcasting. Handle the shape incompatibility.\n",
    "import numpy as np\n",
    "\n",
    "# Given arrays\n",
    "arr1 = np.array([[1, 2, 3], [4, 5, 6]])  # Shape (2, 3)\n",
    "arr2 = np.array([[1, 2], [3, 4]])         # Shape (2, 2)\n",
    "\n",
    "# Reshape arr2 to make it compatible with arr1 (broadcast along the columns)\n",
    "arr2_reshaped = arr2[:, :, np.newaxis]  # Add a new axis to make it (2, 2, 1)\n",
    "\n",
    "# Broadcast arr2_reshaped to match the shape of arr1\n",
    "result = arr1 * arr2_reshaped\n",
    "\n",
    "print(\"Result after broadcasting and multiplication:\")\n",
    "print(result)\n"
   ]
  },
  {
   "cell_type": "code",
   "execution_count": 43,
   "id": "79243296-6b08-4613-a0b8-87c139c9ac4d",
   "metadata": {},
   "outputs": [
    {
     "name": "stdout",
     "output_type": "stream",
     "text": [
      "Column-wise mean:\n",
      "[2.5 3.5 4.5]\n"
     ]
    }
   ],
   "source": [
    "#Q.41  . Calculate column wise mean for the given array:\n",
    "\n",
    "import numpy as np\n",
    "\n",
    "# Given array\n",
    "arr = np.array([[1, 2, 3], \n",
    "                [4, 5, 6]])\n",
    "\n",
    "# Calculate column-wise mean (mean along axis 0)\n",
    "column_wise_mean = np.mean(arr, axis=0)\n",
    "\n",
    "print(\"Column-wise mean:\")\n",
    "print(column_wise_mean)\n"
   ]
  },
  {
   "cell_type": "code",
   "execution_count": 44,
   "id": "3875cecc-8c63-485d-a681-40f28c2ba2ff",
   "metadata": {},
   "outputs": [
    {
     "name": "stdout",
     "output_type": "stream",
     "text": [
      "Maximum value in each row:\n",
      "[3 6]\n"
     ]
    }
   ],
   "source": [
    "#Q.42   Find maximum value in each row of the given array: \n",
    "\n",
    "import numpy as np\n",
    "\n",
    "# Given array\n",
    "arr = np.array([[1, 2, 3], \n",
    "                [4, 5, 6]])\n",
    "\n",
    "# Find the maximum value in each row (along axis 1)\n",
    "row_max_values = np.amax(arr, axis=1)\n",
    "\n",
    "print(\"Maximum value in each row:\")\n",
    "print(row_max_values)\n"
   ]
  },
  {
   "cell_type": "code",
   "execution_count": 45,
   "id": "30c9cea5-4ace-46cc-af06-9646f7d8b360",
   "metadata": {},
   "outputs": [
    {
     "name": "stdout",
     "output_type": "stream",
     "text": [
      "Indices of maximum value in each column:\n",
      "[1 1 1]\n"
     ]
    }
   ],
   "source": [
    "#Q.43  . For the given array, find indices of maximum value in each column.\n",
    "\n",
    "\n",
    "# Given array\n",
    "arr = np.array([[1, 2, 3], \n",
    "                [4, 5, 6]])\n",
    "\n",
    "# Find indices of maximum value in each column (along axis 0)\n",
    "max_indices = np.argmax(arr, axis=0)\n",
    "\n",
    "print(\"Indices of maximum value in each column:\")\n",
    "print(max_indices)\n"
   ]
  },
  {
   "cell_type": "code",
   "execution_count": 46,
   "id": "4ec8e2f7-721c-4048-845c-b205eab846d9",
   "metadata": {},
   "outputs": [
    {
     "name": "stdout",
     "output_type": "stream",
     "text": [
      "Moving sum along rows:\n",
      "[[ 3  5]\n",
      " [ 9 11]]\n"
     ]
    }
   ],
   "source": [
    "#Q.44 . For the given array, apply custom function to calculate moving sum along rows.\n",
    "\n",
    "\n",
    "# Given array\n",
    "arr = np.array([[1, 2, 3], \n",
    "                [4, 5, 6]])\n",
    "\n",
    "# Custom function to calculate moving sum along rows\n",
    "def moving_sum(arr, window_size):\n",
    "    result = []\n",
    "    for row in arr:\n",
    "        row_sum = [np.sum(row[i:i+window_size]) for i in range(len(row) - window_size + 1)]\n",
    "        result.append(row_sum)\n",
    "    return np.array(result)\n",
    "\n",
    "# Define the window size\n",
    "window_size = 2\n",
    "\n",
    "# Apply the custom moving sum function\n",
    "moving_sum_result = moving_sum(arr, window_size)\n",
    "\n",
    "print(\"Moving sum along rows:\")\n",
    "print(moving_sum_result)\n"
   ]
  },
  {
   "cell_type": "code",
   "execution_count": 47,
   "id": "8a0d2c1e-c583-46f6-b605-a82e26924eb8",
   "metadata": {},
   "outputs": [
    {
     "name": "stdout",
     "output_type": "stream",
     "text": [
      "Are all elements in each column even?\n",
      "[False False False]\n"
     ]
    }
   ],
   "source": [
    "#Q.45   In the given array, check if all elements in each column are even.\n",
    "\n",
    "\n",
    "# Given array\n",
    "arr = np.array([[2, 4, 6], \n",
    "                [3, 5, 7]])\n",
    "\n",
    "# Check if all elements in each column are even\n",
    "all_even_in_columns = np.all(arr % 2 == 0, axis=0)\n",
    "\n",
    "print(\"Are all elements in each column even?\")\n",
    "print(all_even_in_columns)\n"
   ]
  },
  {
   "cell_type": "code",
   "execution_count": 48,
   "id": "fbea06ec-4d8c-49d7-bd93-7a3aa6dccf4a",
   "metadata": {},
   "outputs": [
    {
     "name": "stdout",
     "output_type": "stream",
     "text": [
      "Reshaped matrix:\n",
      "[[1 2 3]\n",
      " [4 5 6]]\n"
     ]
    }
   ],
   "source": [
    "#Q.46  . Given a NumPy array arr, reshape it into a matrix of dimensions `m` rows and `n` columns. Return the reshaped matrix.\n",
    "\n",
    "\n",
    "# Original array\n",
    "original_array = np.array([1, 2, 3, 4, 5, 6])\n",
    "\n",
    "# Define the new shape\n",
    "m, n = 2, 3  # Example dimensions: 2 rows and 3 columns\n",
    "\n",
    "# Reshape the array\n",
    "reshaped_matrix = original_array.reshape(m, n)\n",
    "\n",
    "print(\"Reshaped matrix:\")\n",
    "print(reshaped_matrix)\n"
   ]
  },
  {
   "cell_type": "code",
   "execution_count": 49,
   "id": "76ffb0bd-8f5e-4135-943a-84f4eeb3b7e3",
   "metadata": {},
   "outputs": [
    {
     "name": "stdout",
     "output_type": "stream",
     "text": [
      "Flattened array:\n",
      "[1 2 3 4 5 6]\n"
     ]
    }
   ],
   "source": [
    "#Q.47   Create a function that takes a matrix as input and returns the flattened array.\n",
    "\n",
    "\n",
    "# Function to flatten the input matrix\n",
    "def flatten_matrix(matrix):\n",
    "    return matrix.flatten()  # or use matrix.ravel()\n",
    "\n",
    "# Given input matrix\n",
    "input_matrix = np.array([[1, 2, 3], \n",
    "                         [4, 5, 6]])\n",
    "\n",
    "# Call the function and print the result\n",
    "flattened_array = flatten_matrix(input_matrix)\n",
    "\n",
    "print(\"Flattened array:\")\n",
    "print(flattened_array)\n"
   ]
  },
  {
   "cell_type": "code",
   "execution_count": 50,
   "id": "1196587b-b94d-400d-b8bd-561211c8306a",
   "metadata": {},
   "outputs": [
    {
     "name": "stdout",
     "output_type": "stream",
     "text": [
      "Concatenated along axis 0 (rows):\n",
      "[[1 2]\n",
      " [3 4]\n",
      " [5 6]\n",
      " [7 8]]\n",
      "\n",
      "Concatenated along axis 1 (columns):\n",
      "[[1 2 5 6]\n",
      " [3 4 7 8]]\n"
     ]
    }
   ],
   "source": [
    "#Q.48   Write a function that concatenates two given arrays along a specified axis.\n",
    "\n",
    "\n",
    "# Function to concatenate two arrays along a specified axis\n",
    "def concatenate_arrays(array1, array2, axis=0):\n",
    "    return np.concatenate((array1, array2), axis=axis)\n",
    "\n",
    "# Given arrays\n",
    "array1 = np.array([[1, 2], [3, 4]])\n",
    "array2 = np.array([[5, 6], [7, 8]])\n",
    "\n",
    "# Concatenate along axis 0 (rows)\n",
    "concatenated_axis_0 = concatenate_arrays(array1, array2, axis=0)\n",
    "print(\"Concatenated along axis 0 (rows):\")\n",
    "print(concatenated_axis_0)\n",
    "\n",
    "# Concatenate along axis 1 (columns)\n",
    "concatenated_axis_1 = concatenate_arrays(array1, array2, axis=1)\n",
    "print(\"\\nConcatenated along axis 1 (columns):\")\n",
    "print(concatenated_axis_1)\n"
   ]
  },
  {
   "cell_type": "code",
   "execution_count": 51,
   "id": "349006c7-4c9f-4942-89f2-2d63eba4ca4d",
   "metadata": {},
   "outputs": [
    {
     "name": "stdout",
     "output_type": "stream",
     "text": [
      "Split along axis 0 (rows):\n",
      "[[1 2 3]]\n",
      "[[4 5 6]]\n",
      "[[7 8 9]]\n",
      "\n",
      "Split along axis 1 (columns):\n",
      "[[1]\n",
      " [4]\n",
      " [7]]\n",
      "[[2]\n",
      " [5]\n",
      " [8]]\n",
      "[[3]\n",
      " [6]\n",
      " [9]]\n"
     ]
    }
   ],
   "source": [
    "#Q.49   Create a function that splits an array into multiple sub-arrays along a specified axis.\n",
    "\n",
    "\n",
    "# Function to split an array along a specified axis\n",
    "def split_array(arr, num_splits, axis=0):\n",
    "    return np.split(arr, num_splits, axis=axis)\n",
    "\n",
    "# Given array\n",
    "original_array = np.array([[1, 2, 3], \n",
    "                           [4, 5, 6], \n",
    "                           [7, 8, 9]])\n",
    "\n",
    "# Split the array along axis 0 (rows) into 3 sub-arrays\n",
    "split_axis_0 = split_array(original_array, 3, axis=0)\n",
    "print(\"Split along axis 0 (rows):\")\n",
    "for sub_array in split_axis_0:\n",
    "    print(sub_array)\n",
    "    \n",
    "# Split the array along axis 1 (columns) into 3 sub-arrays\n",
    "split_axis_1 = split_array(original_array, 3, axis=1)\n",
    "print(\"\\nSplit along axis 1 (columns):\")\n",
    "for sub_array in split_axis_1:\n",
    "    print(sub_array)\n"
   ]
  },
  {
   "cell_type": "code",
   "execution_count": 52,
   "id": "302686b8-e11c-48d1-91a1-8c0d95c64537",
   "metadata": {},
   "outputs": [
    {
     "name": "stdout",
     "output_type": "stream",
     "text": [
      "Modified array: [ 1 10  4 11  5]\n"
     ]
    }
   ],
   "source": [
    "#Q.50  Write a function that inserts and then deletes elements from a given array at specified indices.\n",
    "\n",
    "\n",
    "# Function to insert and delete elements from the array\n",
    "def modify_array(arr, indices_to_insert, values_to_insert, indices_to_delete):\n",
    "    # Insert values at the specified indices\n",
    "    arr = np.insert(arr, indices_to_insert, values_to_insert)\n",
    "    \n",
    "    # Delete values at the specified indices\n",
    "    arr = np.delete(arr, indices_to_delete)\n",
    "    \n",
    "    return arr\n",
    "\n",
    "# Given array\n",
    "original_array = np.array([1, 2, 3, 4, 5])\n",
    "\n",
    "# Indices and values to insert\n",
    "indices_to_insert = [2, 4]  # Insert at positions 2 and 4\n",
    "values_to_insert = [10, 11]  # Values to insert\n",
    "\n",
    "# Indices to delete\n",
    "indices_to_delete = [1, 3]  # Delete elements at positions 1 and 3\n",
    "\n",
    "# Apply the function\n",
    "modified_array = modify_array(original_array, indices_to_insert, values_to_insert, indices_to_delete)\n",
    "\n",
    "print(\"Modified array:\", modified_array)\n"
   ]
  },
  {
   "cell_type": "code",
   "execution_count": 53,
   "id": "9c333b2e-b7ae-441d-8a7c-f9b98b9914f9",
   "metadata": {},
   "outputs": [
    {
     "name": "stdout",
     "output_type": "stream",
     "text": [
      "Array 1: [5 9 8 5 5]\n",
      "Array 2: [1 2 3 4 5]\n",
      "Element-wise addition result: [ 6 11 11  9 10]\n"
     ]
    }
   ],
   "source": [
    "#Q.51  Create a NumPy array `arr1` with random integers and another array `arr2` with integers from 1 to 10. Perform element-wise addition between `arr1` and `arr2`.\n",
    "\n",
    "\n",
    "# Create arr1 with random integers between 1 and 10, with size (5,)\n",
    "arr1 = np.random.randint(1, 11, size=5)\n",
    "\n",
    "# Create arr2 with integers from 1 to 10\n",
    "arr2 = np.arange(1, 6)  # This creates an array [1, 2, 3, 4, 5]\n",
    "\n",
    "# Perform element-wise addition\n",
    "result = arr1 + arr2\n",
    "\n",
    "# Print the arrays and the result\n",
    "print(\"Array 1:\", arr1)\n",
    "print(\"Array 2:\", arr2)\n",
    "print(\"Element-wise addition result:\", result)\n"
   ]
  },
  {
   "cell_type": "code",
   "execution_count": 54,
   "id": "068591f5-0dd1-4ca4-a71b-1d5bd168699f",
   "metadata": {},
   "outputs": [
    {
     "name": "stdout",
     "output_type": "stream",
     "text": [
      "Array 1: [10  9  8  7  6  5  4  3  2  1]\n",
      "Array 2: [ 1  2  3  4  5  6  7  8  9 10]\n",
      "Element-wise subtraction result: [ 9  7  5  3  1 -1 -3 -5 -7 -9]\n"
     ]
    }
   ],
   "source": [
    "#Q.52   Generate a NumPy array `arr1` with sequential integers from 10 to 1 and another array `arr2` with integers from 1 to 10. Subtract `arr2` from `arr1` element-wise.\n",
    "\n",
    "\n",
    "# Create arr1 with integers from 10 to 1 (inclusive)\n",
    "arr1 = np.arange(10, 0, -1)\n",
    "\n",
    "# Create arr2 with integers from 1 to 10 (inclusive)\n",
    "arr2 = np.arange(1, 11)\n",
    "\n",
    "# Perform element-wise subtraction: arr1 - arr2\n",
    "result = arr1 - arr2\n",
    "\n",
    "# Print the arrays and the result\n",
    "print(\"Array 1:\", arr1)\n",
    "print(\"Array 2:\", arr2)\n",
    "print(\"Element-wise subtraction result:\", result)\n"
   ]
  },
  {
   "cell_type": "code",
   "execution_count": 55,
   "id": "b24738bc-a18c-4b50-8c5e-bcf005ae2ea6",
   "metadata": {},
   "outputs": [
    {
     "name": "stdout",
     "output_type": "stream",
     "text": [
      "Array 1: [8 2 1 4 1]\n",
      "Array 2: [1 2 3 4 5]\n",
      "Element-wise multiplication result: [ 8  4  3 16  5]\n"
     ]
    }
   ],
   "source": [
    "#Q.53   Create a NumPy array `arr1` with random integers and another array `arr2` with integers from 1 to 5. Perform element-wise multiplication between `arr1` and `arr2\n",
    "\n",
    "# Create arr1 with 5 random integers between 1 and 10\n",
    "arr1 = np.random.randint(1, 11, size=5)\n",
    "\n",
    "# Create arr2 with integers from 1 to 5\n",
    "arr2 = np.array([1, 2, 3, 4, 5])\n",
    "\n",
    "# Perform element-wise multiplication\n",
    "result = arr1 * arr2\n",
    "\n",
    "# Print the arrays and the result\n",
    "print(\"Array 1:\", arr1)\n",
    "print(\"Array 2:\", arr2)\n",
    "print(\"Element-wise multiplication result:\", result)\n"
   ]
  },
  {
   "cell_type": "code",
   "execution_count": 56,
   "id": "5a46333c-bbd4-416d-b0cb-2addd48af438",
   "metadata": {},
   "outputs": [
    {
     "name": "stdout",
     "output_type": "stream",
     "text": [
      "Array 1: [ 2  4  6  8 10]\n",
      "Array 2: [1 2 3 4 5]\n",
      "Element-wise division result: [2. 2. 2. 2. 2.]\n"
     ]
    }
   ],
   "source": [
    "#Q.54   Generate a NumPy array `arr1` with even integers from 2 to 10 and another array `arr2` with integers from 1 to 5. Perform element-wise division of `arr1` by `arr2`.\n",
    "\n",
    "\n",
    "# Create arr1 with even integers from 2 to 10 (inclusive)\n",
    "arr1 = np.arange(2, 11, 2)\n",
    "\n",
    "# Create arr2 with integers from 1 to 5 (inclusive)\n",
    "arr2 = np.array([1, 2, 3, 4, 5])\n",
    "\n",
    "# Perform element-wise division\n",
    "result = arr1 / arr2\n",
    "\n",
    "# Print the arrays and the result\n",
    "print(\"Array 1:\", arr1)\n",
    "print(\"Array 2:\", arr2)\n",
    "print(\"Element-wise division result:\", result)\n"
   ]
  },
  {
   "cell_type": "code",
   "execution_count": 57,
   "id": "34e4966b-ff37-42ce-90d8-3e5c7f5108ac",
   "metadata": {},
   "outputs": [
    {
     "name": "stdout",
     "output_type": "stream",
     "text": [
      "Array 1: [1 2 3 4 5]\n",
      "Array 2 (Reversed): [5 4 3 2 1]\n",
      "Element-wise exponentiation result: [ 1 16 27 16  5]\n"
     ]
    }
   ],
   "source": [
    "#Q.55  Create a NumPy array `arr1` with integers from 1 to 5 and another array `arr2` with the same numbers reversed. Calculate the exponentiation of `arr1` raised to the power of `arr2` element-wise.\n",
    "\n",
    "\n",
    "# Create arr1 with integers from 1 to 5\n",
    "arr1 = np.array([1, 2, 3, 4, 5])\n",
    "\n",
    "# Create arr2 with the same numbers as arr1, but reversed\n",
    "arr2 = arr1[::-1]\n",
    "\n",
    "# Perform element-wise exponentiation: arr1 ** arr2\n",
    "result = arr1 ** arr2\n",
    "\n",
    "# Print the arrays and the result\n",
    "print(\"Array 1:\", arr1)\n",
    "print(\"Array 2 (Reversed):\", arr2)\n",
    "print(\"Element-wise exponentiation result:\", result)\n"
   ]
  },
  {
   "cell_type": "code",
   "execution_count": 58,
   "id": "aff21f55-089b-4720-9fbb-abac6a29be48",
   "metadata": {},
   "outputs": [
    {
     "name": "stdout",
     "output_type": "stream",
     "text": [
      "Occurrences of 'hello': 3\n"
     ]
    }
   ],
   "source": [
    "#Q.56  Write a function that counts the occurrences of a specific substring within a NumPy array of strings.\n",
    "\n",
    "\n",
    "\n",
    "# Function to count occurrences of a substring in a NumPy array of strings\n",
    "def count_substring_occurrences(arr, substring):\n",
    "    # Count the occurrences of the substring in each element of the array\n",
    "    count = np.char.count(arr, substring)\n",
    "    \n",
    "    # Return the total count by summing up the individual counts\n",
    "    return np.sum(count)\n",
    "\n",
    "# Given array\n",
    "arr = np.array(['hello', 'world', 'hello', 'numpy', 'hello'])\n",
    "\n",
    "# Substring to search for\n",
    "substring = 'hello'\n",
    "\n",
    "# Count occurrences of 'hello' in the array\n",
    "result = count_substring_occurrences(arr, substring)\n",
    "\n",
    "print(f\"Occurrences of '{substring}':\", result)\n"
   ]
  },
  {
   "cell_type": "code",
   "execution_count": 61,
   "id": "09098085-ef96-445e-a637-86c063867db2",
   "metadata": {},
   "outputs": [
    {
     "name": "stdout",
     "output_type": "stream",
     "text": [
      "Uppercase characters: ['H', 'W', 'O', 'A', 'I', 'G', 'P', 'T']\n"
     ]
    }
   ],
   "source": [
    "#Q.57  Write a function that extracts uppercase characters from a NumPy array of strings.\n",
    "\n",
    "\n",
    "\n",
    "# Function to extract uppercase characters from a NumPy array of strings\n",
    "def extract_uppercase(arr):\n",
    "    # List comprehension to extract uppercase characters from each string in the array\n",
    "    uppercase_chars = [char for word in arr for char in word if char.isupper()]\n",
    "    \n",
    "    return uppercase_chars\n",
    "\n",
    "# Given array\n",
    "arr = np.array(['Hello', 'World', 'OpenAI', 'GPT'])\n",
    "\n",
    "# Extract uppercase characters\n",
    "result = extract_uppercase(arr)\n",
    "\n",
    "print(\"Uppercase characters:\", result)\n"
   ]
  },
  {
   "cell_type": "code",
   "execution_count": 62,
   "id": "00a9e345-9961-40de-97e6-9cee7a7249b1",
   "metadata": {},
   "outputs": [
    {
     "name": "stdout",
     "output_type": "stream",
     "text": [
      "Modified array: ['orange' 'banana' 'grape' 'pineorange']\n"
     ]
    }
   ],
   "source": [
    "#Q.58  Write a function that replaces occurrences of a substring in a NumPy array of strings with a new string.\n",
    "\n",
    "\n",
    "# Function to replace occurrences of a substring in a NumPy array of strings\n",
    "def replace_substring(arr, old_substring, new_substring):\n",
    "    # Use np.char.replace to replace old_substring with new_substring in each element\n",
    "    modified_arr = np.char.replace(arr, old_substring, new_substring)\n",
    "    return modified_arr\n",
    "\n",
    "# Given array\n",
    "arr = np.array(['apple', 'banana', 'grape', 'pineapple'])\n",
    "\n",
    "# Substring to replace and the new substring\n",
    "old_substring = 'apple'\n",
    "new_substring = 'orange'\n",
    "\n",
    "# Replace occurrences of 'apple' with 'orange'\n",
    "result = replace_substring(arr, old_substring, new_substring)\n",
    "\n",
    "print(\"Modified array:\", result)\n"
   ]
  },
  {
   "cell_type": "code",
   "execution_count": 63,
   "id": "74cb037d-c980-4dbf-95fe-b7d79247ffd5",
   "metadata": {},
   "outputs": [
    {
     "name": "stdout",
     "output_type": "stream",
     "text": [
      "Concatenated array: ['HelloOpen' 'WorldAI']\n"
     ]
    }
   ],
   "source": [
    "#Q.59   Write a function that concatenates strings in a NumPy array element-wise.\n",
    "\n",
    "\n",
    "# Function to concatenate strings element-wise from two NumPy arrays\n",
    "def concatenate_strings(arr1, arr2):\n",
    "    # Use np.char.add() to concatenate the arrays element-wise\n",
    "    concatenated_arr = np.char.add(arr1, arr2)\n",
    "    return concatenated_arr\n",
    "\n",
    "# Given arrays\n",
    "arr1 = np.array(['Hello', 'World'])\n",
    "arr2 = np.array(['Open', 'AI'])\n",
    "\n",
    "# Concatenate the strings element-wise\n",
    "result = concatenate_strings(arr1, arr2)\n",
    "\n",
    "print(\"Concatenated array:\", result)\n"
   ]
  },
  {
   "cell_type": "code",
   "execution_count": 64,
   "id": "05b2f732-f229-46e7-a0c3-7c84ff5cea1f",
   "metadata": {},
   "outputs": [
    {
     "name": "stdout",
     "output_type": "stream",
     "text": [
      "Length of the longest string: 9\n"
     ]
    }
   ],
   "source": [
    "#Q.60   Write a function that finds the length of the longest string in a NumPy array.\n",
    "\n",
    "\n",
    "# Function to find the length of the longest string in a NumPy array\n",
    "def longest_string_length(arr):\n",
    "    # Use np.char.str_len to get the length of each string in the array\n",
    "    lengths = np.char.str_len(arr)\n",
    "    \n",
    "    # Find and return the maximum length\n",
    "    return np.max(lengths)\n",
    "\n",
    "# Given array\n",
    "arr = np.array(['apple', 'banana', 'grape', 'pineapple'])\n",
    "\n",
    "# Find the length of the longest string\n",
    "result = longest_string_length(arr)\n",
    "\n",
    "print(\"Length of the longest string:\", result)\n"
   ]
  },
  {
   "cell_type": "code",
   "execution_count": 65,
   "id": "fa798f23-5031-428a-8913-a65ba74e1290",
   "metadata": {},
   "outputs": [
    {
     "name": "stdout",
     "output_type": "stream",
     "text": [
      "Mean: 477.81\n",
      "Median: 446.0\n",
      "Variance: 80897.8139\n",
      "Standard Deviation: 284.4254100814482\n"
     ]
    }
   ],
   "source": [
    "#Q.61  Create a dataset of 100 random integers between 1 and 1000. Compute the mean, median, variance, and standard deviation of the dataset using NumPy's functions.\n",
    "\n",
    "\n",
    "# Generate a dataset of 100 random integers between 1 and 1000\n",
    "dataset = np.random.randint(1, 1001, size=100)\n",
    "\n",
    "# Compute the mean of the dataset\n",
    "mean_value = np.mean(dataset)\n",
    "\n",
    "# Compute the median of the dataset\n",
    "median_value = np.median(dataset)\n",
    "\n",
    "# Compute the variance of the dataset\n",
    "variance_value = np.var(dataset)\n",
    "\n",
    "# Compute the standard deviation of the dataset\n",
    "std_deviation_value = np.std(dataset)\n",
    "\n",
    "# Print the results\n",
    "print(\"Mean:\", mean_value)\n",
    "print(\"Median:\", median_value)\n",
    "print(\"Variance:\", variance_value)\n",
    "print(\"Standard Deviation:\", std_deviation_value)\n"
   ]
  },
  {
   "cell_type": "code",
   "execution_count": 66,
   "id": "b2c88b26-ff6f-4bd1-b6e5-4a72933a94a0",
   "metadata": {},
   "outputs": [
    {
     "name": "stdout",
     "output_type": "stream",
     "text": [
      "25th Percentile: 19.5\n",
      "75th Percentile: 76.75\n"
     ]
    }
   ],
   "source": [
    "#Q.62  Generate an array of 50 random numbers between 1 and 100. Find the 25th and 75th percentiles of the dataset.\n",
    "\n",
    "\n",
    "# Generate a dataset of 50 random integers between 1 and 100\n",
    "dataset = np.random.randint(1, 101, size=50)\n",
    "\n",
    "# Compute the 25th and 75th percentiles\n",
    "percentile_25 = np.percentile(dataset, 25)\n",
    "percentile_75 = np.percentile(dataset, 75)\n",
    "\n",
    "# Print the results\n",
    "print(\"25th Percentile:\", percentile_25)\n",
    "print(\"75th Percentile:\", percentile_75)\n"
   ]
  },
  {
   "cell_type": "code",
   "execution_count": 67,
   "id": "4a0bba69-a167-46fa-8af8-d20bde3e078a",
   "metadata": {},
   "outputs": [
    {
     "name": "stdout",
     "output_type": "stream",
     "text": [
      "Correlation Coefficient: -0.9999999999999999\n"
     ]
    }
   ],
   "source": [
    "#Q.63  Create two arrays representing two sets of variables. Compute the correlation coefficient between these arrays using NumPy's `corrcoef` function.\n",
    "\n",
    "# Create two arrays representing two sets of variables\n",
    "arr1 = np.array([1, 2, 3, 4, 5])\n",
    "arr2 = np.array([5, 4, 3, 2, 1])\n",
    "\n",
    "# Compute the correlation coefficient matrix\n",
    "corr_matrix = np.corrcoef(arr1, arr2)\n",
    "\n",
    "# Extract the correlation coefficient between arr1 and arr2\n",
    "correlation = corr_matrix[0, 1]\n",
    "\n",
    "# Print the correlation coefficient\n",
    "print(\"Correlation Coefficient:\", correlation)\n"
   ]
  },
  {
   "cell_type": "code",
   "execution_count": 68,
   "id": "5126c26f-1fe5-4201-b4d6-3e4ec4c338e1",
   "metadata": {},
   "outputs": [
    {
     "name": "stdout",
     "output_type": "stream",
     "text": [
      "Matrix Multiplication Result:\n",
      "[[ 25  28]\n",
      " [ 57  64]\n",
      " [ 89 100]]\n"
     ]
    }
   ],
   "source": [
    "#Q.64  Create two matrices and perform matrix multiplication using NumPy's `dot` function.\n",
    "\n",
    "\n",
    "# Create two matrices\n",
    "matrix1 = np.array([[1, 2], [3, 4], [5, 6]])  # 3x2 matrix\n",
    "matrix2 = np.array([[7, 8], [9, 10]])  # 2x2 matrix\n",
    "\n",
    "# Perform matrix multiplication using np.dot\n",
    "result = np.dot(matrix1, matrix2)\n",
    "\n",
    "# Print the result\n",
    "print(\"Matrix Multiplication Result:\")\n",
    "print(result)\n"
   ]
  },
  {
   "cell_type": "code",
   "execution_count": 69,
   "id": "1518eba6-c04d-4a67-946a-d194c2c4540e",
   "metadata": {},
   "outputs": [
    {
     "name": "stdout",
     "output_type": "stream",
     "text": [
      "10th Percentile: 158.60000000000002\n",
      "50th Percentile (Median): 473.0\n",
      "90th Percentile: 810.3000000000001\n",
      "25th Quartile (1st Quartile): 271.25\n",
      "75th Quartile (3rd Quartile): 665.5\n"
     ]
    }
   ],
   "source": [
    "#Q.65  Create an array of 50 integers between 10 and 1000. Calculate the 10th, 50th (median), and 90th percentiles along with the first and third quartiles.\n",
    "\n",
    "# Generate an array of 50 random integers between 10 and 1000\n",
    "arr = np.random.randint(10, 1001, size=50)\n",
    "\n",
    "# Calculate the 10th, 50th (median), and 90th percentiles\n",
    "percentile_10 = np.percentile(arr, 10)\n",
    "percentile_50 = np.percentile(arr, 50)  # This is also the median\n",
    "percentile_90 = np.percentile(arr, 90)\n",
    "\n",
    "# Calculate the first (25th) and third (75th) quartiles\n",
    "quartile_25 = np.percentile(arr, 25)\n",
    "quartile_75 = np.percentile(arr, 75)\n",
    "\n",
    "# Print the results\n",
    "print(\"10th Percentile:\", percentile_10)\n",
    "print(\"50th Percentile (Median):\", percentile_50)\n",
    "print(\"90th Percentile:\", percentile_90)\n",
    "print(\"25th Quartile (1st Quartile):\", quartile_25)\n",
    "print(\"75th Quartile (3rd Quartile):\", quartile_75)\n"
   ]
  },
  {
   "cell_type": "code",
   "execution_count": 70,
   "id": "a7f1d3bb-991b-4fb5-8a20-f310418ea96f",
   "metadata": {},
   "outputs": [
    {
     "name": "stdout",
     "output_type": "stream",
     "text": [
      "Index of 40: 3\n"
     ]
    }
   ],
   "source": [
    "#Q.66  Create a NumPy array of integers and find the index of a specific element.\n",
    "\n",
    "\n",
    "# Create a NumPy array of integers\n",
    "arr = np.array([10, 20, 30, 40, 50, 60, 70])\n",
    "\n",
    "# Specify the element whose index you want to find\n",
    "element = 40\n",
    "\n",
    "# Find the index of the element\n",
    "index = np.where(arr == element)\n",
    "\n",
    "# Print the index\n",
    "print(f\"Index of {element}: {index[0][0]}\")\n"
   ]
  },
  {
   "cell_type": "code",
   "execution_count": 71,
   "id": "bc98d0eb-1ce2-4a3f-91b2-823ac6d21516",
   "metadata": {},
   "outputs": [
    {
     "name": "stdout",
     "output_type": "stream",
     "text": [
      "Original Array: [  9  91  40  39 100  21  39  89  82  37]\n",
      "Sorted Array: [  9  21  37  39  39  40  82  89  91 100]\n"
     ]
    }
   ],
   "source": [
    "#Q.67  Generate a random NumPy array and sort it in ascending order.\n",
    "\n",
    "\n",
    "# Generate a random NumPy array with 10 integers between 1 and 100\n",
    "arr = np.random.randint(1, 101, size=10)\n",
    "\n",
    "# Sort the array in ascending order\n",
    "sorted_arr = np.sort(arr)\n",
    "\n",
    "# Print the original and sorted arrays\n",
    "print(\"Original Array:\", arr)\n",
    "print(\"Sorted Array:\", sorted_arr)\n"
   ]
  },
  {
   "cell_type": "code",
   "execution_count": 73,
   "id": "eaa150c3-029f-46a4-905f-570fdc707c3d",
   "metadata": {},
   "outputs": [
    {
     "name": "stdout",
     "output_type": "stream",
     "text": [
      "Filtered Array (elements > 20): [25 42 30]\n"
     ]
    }
   ],
   "source": [
    "#Q.68  Filter elements >20  in the given NumPy array.\n",
    "\n",
    "\n",
    "\n",
    "# Given NumPy array\n",
    "arr = np.array([12, 25, 6, 42, 8, 30])\n",
    "\n",
    "# Filter elements greater than 20\n",
    "filtered_arr = arr[arr > 20]\n",
    "\n",
    "# Print the result\n",
    "print(\"Filtered Array (elements > 20):\", filtered_arr)\n",
    "\n"
   ]
  },
  {
   "cell_type": "code",
   "execution_count": 74,
   "id": "9ebaf1f4-8d3a-43a6-b64c-f3e05e2c485d",
   "metadata": {},
   "outputs": [
    {
     "name": "stdout",
     "output_type": "stream",
     "text": [
      "Filtered Array (elements divisible by 3): [12 15]\n"
     ]
    }
   ],
   "source": [
    "#Q.69   Filter elements which are divisible by 3 from a given NumPy array.\n",
    "\n",
    "\n",
    "# Given NumPy array\n",
    "arr = np.array([1, 5, 8, 12, 15])\n",
    "\n",
    "# Filter elements divisible by 3\n",
    "filtered_arr = arr[arr % 3 == 0]\n",
    "\n",
    "# Print the result\n",
    "print(\"Filtered Array (elements divisible by 3):\", filtered_arr)\n"
   ]
  },
  {
   "cell_type": "code",
   "execution_count": 75,
   "id": "8813db5a-e735-4078-a9c3-b22652097ff4",
   "metadata": {},
   "outputs": [
    {
     "name": "stdout",
     "output_type": "stream",
     "text": [
      "Filtered Array (elements ≥ 20 and ≤ 40): [20 30 40]\n"
     ]
    }
   ],
   "source": [
    "#Q.70  Filter elements which are ≥ 20 and ≤ 40 from a given NumPy array.\n",
    "\n",
    "# Given NumPy array\n",
    "arr = np.array([10, 20, 30, 40, 50])\n",
    "\n",
    "# Filter elements ≥ 20 and ≤ 40\n",
    "filtered_arr = arr[(arr >= 20) & (arr <= 40)]\n",
    "\n",
    "# Print the result\n",
    "print(\"Filtered Array (elements ≥ 20 and ≤ 40):\", filtered_arr)\n"
   ]
  },
  {
   "cell_type": "code",
   "execution_count": 76,
   "id": "b1527d8e-76db-4373-b4a7-0f94d90a5f37",
   "metadata": {},
   "outputs": [
    {
     "name": "stdout",
     "output_type": "stream",
     "text": [
      "Byte order of the array: =\n"
     ]
    }
   ],
   "source": [
    "#Q.71  For the given NumPy array, check its byte order using the `dtype` attribute byteorder.\n",
    "\n",
    "\n",
    "# Given NumPy array\n",
    "arr = np.array([1, 2, 3])\n",
    "\n",
    "# Check the byte order using dtype.byteorder\n",
    "byte_order = arr.dtype.byteorder\n",
    "\n",
    "# Print the result\n",
    "print(f\"Byte order of the array: {byte_order}\")\n"
   ]
  },
  {
   "cell_type": "code",
   "execution_count": 77,
   "id": "8c5c06bb-2496-448e-a316-dd13977259b3",
   "metadata": {},
   "outputs": [
    {
     "name": "stdout",
     "output_type": "stream",
     "text": [
      "Array after byte swapping: [16777216 33554432 50331648]\n"
     ]
    }
   ],
   "source": [
    "#Q.72  For the given NumPy array, perform byte swapping in place using `byteswap()`.\n",
    "\n",
    "\n",
    "# Given NumPy array with int32 data type\n",
    "arr = np.array([1, 2, 3], dtype=np.int32)\n",
    "\n",
    "# Perform byte swapping in place\n",
    "arr.byteswap(inplace=True)\n",
    "\n",
    "# Print the result\n",
    "print(\"Array after byte swapping:\", arr)\n"
   ]
  },
  {
   "cell_type": "code",
   "execution_count": 80,
   "id": "727f08c4-c1f3-4aa4-8992-4fb3ea13a0d4",
   "metadata": {},
   "outputs": [
    {
     "ename": "AttributeError",
     "evalue": "`newbyteorder` was removed from the ndarray class in NumPy 2.0. Use `arr.view(arr.dtype.newbyteorder(order))` instead.",
     "output_type": "error",
     "traceback": [
      "\u001b[1;31m---------------------------------------------------------------------------\u001b[0m",
      "\u001b[1;31mAttributeError\u001b[0m                            Traceback (most recent call last)",
      "Cell \u001b[1;32mIn[80], line 9\u001b[0m\n\u001b[0;32m      6\u001b[0m arr \u001b[38;5;241m=\u001b[39m np\u001b[38;5;241m.\u001b[39marray([\u001b[38;5;241m1\u001b[39m, \u001b[38;5;241m2\u001b[39m, \u001b[38;5;241m3\u001b[39m], dtype\u001b[38;5;241m=\u001b[39mnp\u001b[38;5;241m.\u001b[39mint32)\n\u001b[0;32m      8\u001b[0m \u001b[38;5;66;03m# Swap the byte order without modifying the original array\u001b[39;00m\n\u001b[1;32m----> 9\u001b[0m swapped_arr \u001b[38;5;241m=\u001b[39m \u001b[43marr\u001b[49m\u001b[38;5;241;43m.\u001b[39;49m\u001b[43mnewbyteorder\u001b[49m()\n\u001b[0;32m     11\u001b[0m \u001b[38;5;66;03m# Print the original and swapped arrays\u001b[39;00m\n\u001b[0;32m     12\u001b[0m \u001b[38;5;28mprint\u001b[39m(\u001b[38;5;124m\"\u001b[39m\u001b[38;5;124mOriginal Array:\u001b[39m\u001b[38;5;124m\"\u001b[39m, arr)\n",
      "\u001b[1;31mAttributeError\u001b[0m: `newbyteorder` was removed from the ndarray class in NumPy 2.0. Use `arr.view(arr.dtype.newbyteorder(order))` instead."
     ]
    }
   ],
   "source": [
    "#Q.73  For the given NumPy array, swap its byte order without modifying the original array using `newbyteorder()`\n",
    "\n",
    "import numpy as np\n",
    "\n",
    "# Given NumPy array with int32 data type\n",
    "arr = np.array([1, 2, 3], dtype=np.int32)\n",
    "\n",
    "# Swap the byte order without modifying the original array\n",
    "swapped_arr = arr.newbyteorder()\n",
    "\n",
    "# Print the original and swapped arrays\n",
    "print(\"Original Array:\", arr)\n",
    "print(\"Swapped Array:\", swapped_arr)\n",
    "\n"
   ]
  },
  {
   "cell_type": "code",
   "execution_count": 81,
   "id": "3436983e-919c-4324-84a0-f585c62750e4",
   "metadata": {},
   "outputs": [
    {
     "ename": "AttributeError",
     "evalue": "`newbyteorder` was removed from the ndarray class in NumPy 2.0. Use `arr.view(arr.dtype.newbyteorder(order))` instead.",
     "output_type": "error",
     "traceback": [
      "\u001b[1;31m---------------------------------------------------------------------------\u001b[0m",
      "\u001b[1;31mAttributeError\u001b[0m                            Traceback (most recent call last)",
      "Cell \u001b[1;32mIn[81], line 15\u001b[0m\n\u001b[0;32m     12\u001b[0m \u001b[38;5;66;03m# If the system is little-endian, swap the byte order, otherwise leave it unchanged\u001b[39;00m\n\u001b[0;32m     13\u001b[0m \u001b[38;5;28;01mif\u001b[39;00m system_endianness \u001b[38;5;241m==\u001b[39m \u001b[38;5;124m'\u001b[39m\u001b[38;5;124mlittle\u001b[39m\u001b[38;5;124m'\u001b[39m:\n\u001b[0;32m     14\u001b[0m     \u001b[38;5;66;03m# Swap the byte order if the system is little-endian\u001b[39;00m\n\u001b[1;32m---> 15\u001b[0m     swapped_arr \u001b[38;5;241m=\u001b[39m \u001b[43marr\u001b[49m\u001b[38;5;241;43m.\u001b[39;49m\u001b[43mnewbyteorder\u001b[49m(\u001b[38;5;124m'\u001b[39m\u001b[38;5;124m>\u001b[39m\u001b[38;5;124m'\u001b[39m)\n\u001b[0;32m     16\u001b[0m \u001b[38;5;28;01melse\u001b[39;00m:\n\u001b[0;32m     17\u001b[0m     \u001b[38;5;66;03m# If the system is big-endian, we don't swap\u001b[39;00m\n\u001b[0;32m     18\u001b[0m     swapped_arr \u001b[38;5;241m=\u001b[39m arr\n",
      "\u001b[1;31mAttributeError\u001b[0m: `newbyteorder` was removed from the ndarray class in NumPy 2.0. Use `arr.view(arr.dtype.newbyteorder(order))` instead."
     ]
    }
   ],
   "source": [
    "#Q.74   For the given NumPy array and swap its byte order conditionally based on system endianness using `newbyteorder()`.\n",
    "\n",
    "import numpy as np\n",
    "import sys\n",
    "\n",
    "# Given NumPy array with int32 data type\n",
    "arr = np.array([1, 2, 3], dtype=np.int32)\n",
    "\n",
    "# Check the system's byte order\n",
    "system_endianness = sys.byteorder\n",
    "\n",
    "# If the system is little-endian, swap the byte order, otherwise leave it unchanged\n",
    "if system_endianness == 'little':\n",
    "    # Swap the byte order if the system is little-endian\n",
    "    swapped_arr = arr.newbyteorder('>')\n",
    "else:\n",
    "    # If the system is big-endian, we don't swap\n",
    "    swapped_arr = arr\n",
    "\n",
    "# Print the original and swapped arrays\n",
    "print(\"Original Array:\", arr)\n",
    "print(\"Swapped Array (if needed):\", swapped_arr)\n"
   ]
  },
  {
   "cell_type": "code",
   "execution_count": 82,
   "id": "a6a1c128-82d3-4c58-bfce-4e64a09b109f",
   "metadata": {},
   "outputs": [
    {
     "name": "stdout",
     "output_type": "stream",
     "text": [
      "Byte order is native. No byte swapping needed.\n"
     ]
    }
   ],
   "source": [
    "#Q.75   For the given NumPy array, check if byte swapping is necessary for the current system using `dtype` attribute `byteorder`.\n",
    "\n",
    "import numpy as np\n",
    "import sys\n",
    "\n",
    "# Given NumPy array with int32 data type\n",
    "arr = np.array([1, 2, 3], dtype=np.int32)\n",
    "\n",
    "# Check the system's byte order\n",
    "system_endianness = sys.byteorder\n",
    "\n",
    "# Check the byte order of the array\n",
    "array_endianness = arr.dtype.byteorder\n",
    "\n",
    "# Determine if byte swapping is necessary\n",
    "if array_endianness == '=':\n",
    "    # Native byte order (no swap needed)\n",
    "    print(\"Byte order is native. No byte swapping needed.\")\n",
    "elif array_endianness != system_endianness:\n",
    "    # If the byte order of the array is different from the system's byte order, swap is needed\n",
    "    print(\"Byte order mismatch! Byte swapping is necessary.\")\n",
    "else:\n",
    "    # If both byte orders are the same, no swap is needed\n",
    "    print(\"Byte order is already compatible with the system. No byte swapping needed.\")\n"
   ]
  },
  {
   "cell_type": "code",
   "execution_count": 83,
   "id": "09a03214-d510-437d-989f-41a232bebd2e",
   "metadata": {},
   "outputs": [
    {
     "name": "stdout",
     "output_type": "stream",
     "text": [
      "Original Array (arr1): [ 1  2  3  4  5  6  7  8  9 10]\n",
      "Modified Copy Array (copy_arr): [100   2   3   4   5   6   7   8   9  10]\n",
      "No, arr1 was NOT affected by the change in copy_arr.\n"
     ]
    }
   ],
   "source": [
    "#Q.76  Create a NumPy array `arr1` with values from 1 to 10. Create a copy of `arr1` named `copy_arr` and modify an element in `copy_arr`. Check if modifying `copy_arr` affects `arr1`.\n",
    "\n",
    "import numpy as np\n",
    "\n",
    "# Create a NumPy array with values from 1 to 10\n",
    "arr1 = np.array([1, 2, 3, 4, 5, 6, 7, 8, 9, 10])\n",
    "\n",
    "# Create a copy of arr1\n",
    "copy_arr = arr1.copy()\n",
    "\n",
    "# Modify an element in the copied array\n",
    "copy_arr[0] = 100\n",
    "\n",
    "# Print both arrays to see if arr1 is affected\n",
    "print(\"Original Array (arr1):\", arr1)\n",
    "print(\"Modified Copy Array (copy_arr):\", copy_arr)\n",
    "\n",
    "# Check if arr1 was affected\n",
    "if np.array_equal(arr1, copy_arr):\n",
    "    print(\"No, arr1 was affected by the change in copy_arr.\")\n",
    "else:\n",
    "    print(\"No, arr1 was NOT affected by the change in copy_arr.\")\n"
   ]
  },
  {
   "cell_type": "code",
   "execution_count": 84,
   "id": "9d5cb09d-2b85-4fd1-bb14-772fad540dc7",
   "metadata": {},
   "outputs": [
    {
     "name": "stdout",
     "output_type": "stream",
     "text": [
      "Original Matrix:\n",
      "[[41 79  6]\n",
      " [26 90 42]\n",
      " [27 65 53]]\n",
      "\n",
      "Modified Slice:\n",
      "[[999  42]\n",
      " [ 65  53]]\n",
      "\n",
      "Original Matrix after modification:\n",
      "[[ 41  79   6]\n",
      " [ 26 999  42]\n",
      " [ 27  65  53]]\n"
     ]
    }
   ],
   "source": [
    "#Q.77  . Create a 2D NumPy array `matrix` of shape (3, 3) with random integers. Extract a slice `view_slice` from the matrix. Modify an element in `view_slice` and observe if it changes the original `matrix`.\n",
    "\n",
    "\n",
    "\n",
    "# Create a 2D NumPy array (3x3) with random integers between 1 and 100\n",
    "matrix = np.random.randint(1, 100, size=(3, 3))\n",
    "\n",
    "# Print the original matrix\n",
    "print(\"Original Matrix:\")\n",
    "print(matrix)\n",
    "\n",
    "# Extract a slice (view) from the matrix\n",
    "view_slice = matrix[1:, 1:]\n",
    "\n",
    "# Modify an element in the slice\n",
    "view_slice[0, 0] = 999\n",
    "\n",
    "# Print the modified slice\n",
    "print(\"\\nModified Slice:\")\n",
    "print(view_slice)\n",
    "\n",
    "# Print the original matrix to see if it is affected\n",
    "print(\"\\nOriginal Matrix after modification:\")\n",
    "print(matrix)\n"
   ]
  },
  {
   "cell_type": "code",
   "execution_count": 85,
   "id": "a8230ffb-e25d-4b79-8009-8dc988c86991",
   "metadata": {},
   "outputs": [
    {
     "name": "stdout",
     "output_type": "stream",
     "text": [
      "Original array_a:\n",
      "[[ 1  2  3]\n",
      " [ 4  5  6]\n",
      " [ 7  8  9]\n",
      " [10 11 12]]\n",
      "\n",
      "Modified view_b (slice):\n",
      "[[10 11]\n",
      " [13 14]\n",
      " [16 17]]\n",
      "\n",
      "Original array_a after modifying view_b:\n",
      "[[ 1  2  3]\n",
      " [ 4 10 11]\n",
      " [ 7 13 14]\n",
      " [10 16 17]]\n"
     ]
    }
   ],
   "source": [
    "#Q.78  . Create a NumPy array `array_a` of shape (4, 3) with sequential integers from 1 to 12. Extract a slice `view_b` from `array_a` and broadcast the addition of 5 to view_b. Check if it alters the original `array_a`.\n",
    "\n",
    "import numpy as np\n",
    "\n",
    "# Create a 4x3 NumPy array with sequential integers from 1 to 12\n",
    "array_a = np.arange(1, 13).reshape(4, 3)\n",
    "\n",
    "# Print the original array_a\n",
    "print(\"Original array_a:\")\n",
    "print(array_a)\n",
    "\n",
    "# Extract a slice (view) from array_a\n",
    "view_b = array_a[1:, 1:]\n",
    "\n",
    "# Add 5 to view_b using broadcasting\n",
    "view_b += 5\n",
    "\n",
    "# Print the modified slice (view_b)\n",
    "print(\"\\nModified view_b (slice):\")\n",
    "print(view_b)\n",
    "\n",
    "# Print the original array_a to check if it was affected\n",
    "print(\"\\nOriginal array_a after modifying view_b:\")\n",
    "print(array_a)\n"
   ]
  },
  {
   "cell_type": "code",
   "execution_count": 86,
   "id": "eca5842b-f060-4ae2-bc7e-1ac2236538e1",
   "metadata": {},
   "outputs": [
    {
     "name": "stdout",
     "output_type": "stream",
     "text": [
      "Original orig_array:\n",
      "[[1 2 3 4]\n",
      " [5 6 7 8]]\n",
      "\n",
      "Modified reshaped_view:\n",
      "[[ 1  2]\n",
      " [ 3 99]\n",
      " [ 5  6]\n",
      " [ 7  8]]\n",
      "\n",
      "Original orig_array after modifying reshaped_view:\n",
      "[[ 1  2  3 99]\n",
      " [ 5  6  7  8]]\n"
     ]
    }
   ],
   "source": [
    "#Q.79  Create a NumPy array `orig_array` of shape (2, 4) with values from 1 to 8. Create a reshaped view `reshaped_view` of shape (4, 2) from \n",
    "#       orig_array. Modify an element in `reshaped_view` and check if it  reflects changes in the original `orig_array`.\n",
    "\n",
    "\n",
    "\n",
    "# Create a 2x4 NumPy array with values from 1 to 8\n",
    "orig_array = np.arange(1, 9).reshape(2, 4)\n",
    "\n",
    "# Print the original array\n",
    "print(\"Original orig_array:\")\n",
    "print(orig_array)\n",
    "\n",
    "# Reshape the array into a new shape (4x2) without copying\n",
    "reshaped_view = orig_array.reshape(4, 2)\n",
    "\n",
    "# Modify an element in the reshaped view\n",
    "reshaped_view[1, 1] = 99\n",
    "\n",
    "# Print the reshaped view\n",
    "print(\"\\nModified reshaped_view:\")\n",
    "print(reshaped_view)\n",
    "\n",
    "# Print the original array to check if it is affected\n",
    "print(\"\\nOriginal orig_array after modifying reshaped_view:\")\n",
    "print(orig_array)\n"
   ]
  },
  {
   "cell_type": "code",
   "execution_count": 87,
   "id": "6a5d163e-66cf-4ad1-b2f0-21e9dc3fdeae",
   "metadata": {},
   "outputs": [
    {
     "name": "stdout",
     "output_type": "stream",
     "text": [
      "Original data array:\n",
      "[[1 5 1 1]\n",
      " [6 9 4 4]\n",
      " [7 8 4 2]]\n",
      "\n",
      "Extracted data_copy array (elements > 5):\n",
      "[6 9 7 8]\n",
      "\n",
      "Modified data_copy array:\n",
      "[999   9   7   8]\n",
      "\n",
      "Original data array after modifying data_copy:\n",
      "[[1 5 1 1]\n",
      " [6 9 4 4]\n",
      " [7 8 4 2]]\n"
     ]
    }
   ],
   "source": [
    "#Q.80  Create a NumPy array `data` of shape (3, 4) with random integers. Extract a copy `data_copy` ofelements greater than 5. Modify an element in `data_copy` and verify if it affects the original `data`.\n",
    "\n",
    "\n",
    "# Step 1: Create a 3x4 NumPy array with random integers between 1 and 10\n",
    "data = np.random.randint(1, 10, size=(3, 4))\n",
    "\n",
    "# Print the original data array\n",
    "print(\"Original data array:\")\n",
    "print(data)\n",
    "\n",
    "# Step 2: Extract a copy of elements greater than 5\n",
    "data_copy = data[data > 5].copy()\n",
    "\n",
    "# Print the extracted data_copy array\n",
    "print(\"\\nExtracted data_copy array (elements > 5):\")\n",
    "print(data_copy)\n",
    "\n",
    "# Step 3: Modify an element in data_copy\n",
    "data_copy[0] = 999\n",
    "\n",
    "# Print the modified data_copy array\n",
    "print(\"\\nModified data_copy array:\")\n",
    "print(data_copy)\n",
    "\n",
    "# Step 4: Verify if the original data array is affected\n",
    "print(\"\\nOriginal data array after modifying data_copy:\")\n",
    "print(data)\n"
   ]
  },
  {
   "cell_type": "code",
   "execution_count": 88,
   "id": "ab8a517f-3e90-4286-8c3a-2a4f03b377d1",
   "metadata": {},
   "outputs": [
    {
     "name": "stdout",
     "output_type": "stream",
     "text": [
      "Matrix A:\n",
      "[[1 2 3]\n",
      " [4 5 6]\n",
      " [7 8 9]]\n",
      "\n",
      "Matrix B:\n",
      "[[9 8 7]\n",
      " [6 5 4]\n",
      " [3 2 1]]\n",
      "\n",
      "Addition of A and B (A + B):\n",
      "[[10 10 10]\n",
      " [10 10 10]\n",
      " [10 10 10]]\n",
      "\n",
      "Subtraction of A and B (A - B):\n",
      "[[-8 -6 -4]\n",
      " [-2  0  2]\n",
      " [ 4  6  8]]\n"
     ]
    }
   ],
   "source": [
    "#Q.81   Create two matrices A and B of identical shape containing integers and perform addition and subtraction operations between them.\n",
    "\n",
    "\n",
    "\n",
    "# Step 1: Create two matrices A and B of identical shape (3x3)\n",
    "A = np.array([[1, 2, 3], \n",
    "              [4, 5, 6], \n",
    "              [7, 8, 9]])\n",
    "\n",
    "B = np.array([[9, 8, 7], \n",
    "              [6, 5, 4], \n",
    "              [3, 2, 1]])\n",
    "\n",
    "# Step 2: Perform element-wise addition\n",
    "addition_result = A + B\n",
    "\n",
    "# Step 3: Perform element-wise subtraction\n",
    "subtraction_result = A - B\n",
    "\n",
    "# Step 4: Display the results\n",
    "print(\"Matrix A:\")\n",
    "print(A)\n",
    "\n",
    "print(\"\\nMatrix B:\")\n",
    "print(B)\n",
    "\n",
    "print(\"\\nAddition of A and B (A + B):\")\n",
    "print(addition_result)\n",
    "\n",
    "print(\"\\nSubtraction of A and B (A - B):\")\n",
    "print(subtraction_result)\n"
   ]
  },
  {
   "cell_type": "code",
   "execution_count": 89,
   "id": "8fa827fa-ac61-44e6-bc5c-3924dc19e2fd",
   "metadata": {},
   "outputs": [
    {
     "name": "stdout",
     "output_type": "stream",
     "text": [
      "Matrix C (3x2):\n",
      "[[1 2]\n",
      " [3 4]\n",
      " [5 6]]\n",
      "\n",
      "Matrix D (2x4):\n",
      "[[ 7  8  9 10]\n",
      " [11 12 13 14]]\n",
      "\n",
      "Matrix multiplication result (C * D):\n",
      "[[ 29  32  35  38]\n",
      " [ 65  72  79  86]\n",
      " [101 112 123 134]]\n"
     ]
    }
   ],
   "source": [
    "#Q.82   Generate two matrices `C` (3x2) and `D` (2x4) and perform matrix multiplication.\n",
    "\n",
    "\n",
    "# Step 1: Create matrix C (3x2) and matrix D (2x4)\n",
    "C = np.array([[1, 2], \n",
    "              [3, 4], \n",
    "              [5, 6]])\n",
    "\n",
    "D = np.array([[7, 8, 9, 10], \n",
    "              [11, 12, 13, 14]])\n",
    "\n",
    "# Step 2: Perform matrix multiplication using np.dot() or the @ operator\n",
    "result = np.dot(C, D)\n",
    "\n",
    "# Step 3: Display the result\n",
    "print(\"Matrix C (3x2):\")\n",
    "print(C)\n",
    "\n",
    "print(\"\\nMatrix D (2x4):\")\n",
    "print(D)\n",
    "\n",
    "print(\"\\nMatrix multiplication result (C * D):\")\n",
    "print(result)\n"
   ]
  },
  {
   "cell_type": "code",
   "execution_count": 90,
   "id": "ae6e70c6-8e4a-492a-895f-4a9783883cab",
   "metadata": {},
   "outputs": [
    {
     "name": "stdout",
     "output_type": "stream",
     "text": [
      "Matrix E:\n",
      "[[1 2]\n",
      " [3 4]\n",
      " [5 6]]\n",
      "\n",
      "Transpose of Matrix E (E^T):\n",
      "[[1 3 5]\n",
      " [2 4 6]]\n"
     ]
    }
   ],
   "source": [
    "#Q.83   Create a matrix `E` and find its transpose.\n",
    "\n",
    "import numpy as np\n",
    "\n",
    "# Step 1: Create matrix E (e.g., 3x2 matrix)\n",
    "E = np.array([[1, 2], \n",
    "              [3, 4], \n",
    "              [5, 6]])\n",
    "\n",
    "# Step 2: Find the transpose of matrix E\n",
    "E_transpose = E.T\n",
    "\n",
    "# Step 3: Display the results\n",
    "print(\"Matrix E:\")\n",
    "print(E)\n",
    "\n",
    "print(\"\\nTranspose of Matrix E (E^T):\")\n",
    "print(E_transpose)\n"
   ]
  },
  {
   "cell_type": "code",
   "execution_count": 93,
   "id": "9cbd487b-8e93-43fd-a96a-afb7184996d4",
   "metadata": {},
   "outputs": [
    {
     "name": "stdout",
     "output_type": "stream",
     "text": [
      "Matrix F:\n",
      "[[1 2 3]\n",
      " [4 5 6]\n",
      " [7 8 9]]\n",
      "\n",
      "Determinant of matrix F: 0.0\n"
     ]
    }
   ],
   "source": [
    "#Q.84  Generate a square matrix `F` and compute its determinant.\n",
    "\n",
    "\n",
    "\n",
    "# Step 1: Generate a square matrix F (e.g., 3x3 matrix)\n",
    "F = np.array([[1, 2, 3], \n",
    "              [4, 5, 6], \n",
    "              [7, 8, 9]])\n",
    "\n",
    "# Step 2: Compute the determinant of matrix F\n",
    "det_F = np.linalg.det(F)\n",
    "\n",
    "# Step 3: Display the results\n",
    "print(\"Matrix F:\")\n",
    "print(F)\n",
    "\n",
    "print(\"\\nDeterminant of matrix F:\", det_F)\n",
    "\n"
   ]
  },
  {
   "cell_type": "code",
   "execution_count": 92,
   "id": "c1f1bfc0-8b35-4905-b605-1ca39284ca62",
   "metadata": {},
   "outputs": [
    {
     "name": "stdout",
     "output_type": "stream",
     "text": [
      "Matrix G:\n",
      "[[4 7]\n",
      " [2 6]]\n",
      "\n",
      "Inverse of matrix G (G^-1):\n",
      "[[ 0.6 -0.7]\n",
      " [-0.2  0.4]]\n"
     ]
    }
   ],
   "source": [
    "#Q.85  Create a square matrix `G` and find its inverse.\n",
    "\n",
    "# Step 1: Create a square matrix G (e.g., 2x2 matrix)\n",
    "G = np.array([[4, 7], \n",
    "              [2, 6]])\n",
    "\n",
    "# Step 2: Compute the inverse of matrix G\n",
    "try:\n",
    "    G_inv = np.linalg.inv(G)\n",
    "    print(\"Matrix G:\")\n",
    "    print(G)\n",
    "\n",
    "    print(\"\\nInverse of matrix G (G^-1):\")\n",
    "    print(G_inv)\n",
    "\n",
    "except np.linalg.LinAlgError:\n",
    "    print(\"Matrix G is singular and cannot be inverted.\")\n"
   ]
  },
  {
   "cell_type": "code",
   "execution_count": null,
   "id": "2b12c882-63e1-4144-b8f4-35ba10e120b5",
   "metadata": {},
   "outputs": [],
   "source": []
  }
 ],
 "metadata": {
  "kernelspec": {
   "display_name": "Python 3 (ipykernel)",
   "language": "python",
   "name": "python3"
  },
  "language_info": {
   "codemirror_mode": {
    "name": "ipython",
    "version": 3
   },
   "file_extension": ".py",
   "mimetype": "text/x-python",
   "name": "python",
   "nbconvert_exporter": "python",
   "pygments_lexer": "ipython3",
   "version": "3.12.4"
  }
 },
 "nbformat": 4,
 "nbformat_minor": 5
}
